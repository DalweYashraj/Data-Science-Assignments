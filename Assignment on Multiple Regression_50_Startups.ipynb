{
 "cells": [
  {
   "cell_type": "markdown",
   "id": "573d1dee",
   "metadata": {},
   "source": [
    "# Assignment on Multiple Regression_50_Startups"
   ]
  },
  {
   "cell_type": "code",
   "execution_count": 1,
   "id": "40035f8b",
   "metadata": {},
   "outputs": [],
   "source": [
    "#Import Libraries\n",
    "\n",
    "import pandas as pd\n",
    "import numpy as np\n",
    "import matplotlib.pyplot as plt\n",
    "import statsmodels.formula.api as smf\n",
    "from statsmodels.graphics.regressionplots import influence_plot\n",
    "import seaborn as sns"
   ]
  },
  {
   "cell_type": "code",
   "execution_count": 2,
   "id": "6960484f",
   "metadata": {},
   "outputs": [
    {
     "data": {
      "text/html": [
       "<div>\n",
       "<style scoped>\n",
       "    .dataframe tbody tr th:only-of-type {\n",
       "        vertical-align: middle;\n",
       "    }\n",
       "\n",
       "    .dataframe tbody tr th {\n",
       "        vertical-align: top;\n",
       "    }\n",
       "\n",
       "    .dataframe thead th {\n",
       "        text-align: right;\n",
       "    }\n",
       "</style>\n",
       "<table border=\"1\" class=\"dataframe\">\n",
       "  <thead>\n",
       "    <tr style=\"text-align: right;\">\n",
       "      <th></th>\n",
       "      <th>R&amp;D Spend</th>\n",
       "      <th>Administration</th>\n",
       "      <th>Marketing Spend</th>\n",
       "      <th>State</th>\n",
       "      <th>Profit</th>\n",
       "    </tr>\n",
       "  </thead>\n",
       "  <tbody>\n",
       "    <tr>\n",
       "      <th>0</th>\n",
       "      <td>165349.20</td>\n",
       "      <td>136897.80</td>\n",
       "      <td>471784.10</td>\n",
       "      <td>New York</td>\n",
       "      <td>192261.83</td>\n",
       "    </tr>\n",
       "    <tr>\n",
       "      <th>1</th>\n",
       "      <td>162597.70</td>\n",
       "      <td>151377.59</td>\n",
       "      <td>443898.53</td>\n",
       "      <td>California</td>\n",
       "      <td>191792.06</td>\n",
       "    </tr>\n",
       "    <tr>\n",
       "      <th>2</th>\n",
       "      <td>153441.51</td>\n",
       "      <td>101145.55</td>\n",
       "      <td>407934.54</td>\n",
       "      <td>Florida</td>\n",
       "      <td>191050.39</td>\n",
       "    </tr>\n",
       "    <tr>\n",
       "      <th>3</th>\n",
       "      <td>144372.41</td>\n",
       "      <td>118671.85</td>\n",
       "      <td>383199.62</td>\n",
       "      <td>New York</td>\n",
       "      <td>182901.99</td>\n",
       "    </tr>\n",
       "    <tr>\n",
       "      <th>4</th>\n",
       "      <td>142107.34</td>\n",
       "      <td>91391.77</td>\n",
       "      <td>366168.42</td>\n",
       "      <td>Florida</td>\n",
       "      <td>166187.94</td>\n",
       "    </tr>\n",
       "  </tbody>\n",
       "</table>\n",
       "</div>"
      ],
      "text/plain": [
       "   R&D Spend  Administration  Marketing Spend       State     Profit\n",
       "0  165349.20       136897.80        471784.10    New York  192261.83\n",
       "1  162597.70       151377.59        443898.53  California  191792.06\n",
       "2  153441.51       101145.55        407934.54     Florida  191050.39\n",
       "3  144372.41       118671.85        383199.62    New York  182901.99\n",
       "4  142107.34        91391.77        366168.42     Florida  166187.94"
      ]
     },
     "execution_count": 2,
     "metadata": {},
     "output_type": "execute_result"
    }
   ],
   "source": [
    "startup = pd.read_csv('50_Startups.csv')\n",
    "startup.head()"
   ]
  },
  {
   "cell_type": "markdown",
   "id": "48c4fc52",
   "metadata": {},
   "source": [
    "# EDA & Visualization"
   ]
  },
  {
   "cell_type": "code",
   "execution_count": 3,
   "id": "76f616e2",
   "metadata": {},
   "outputs": [
    {
     "name": "stdout",
     "output_type": "stream",
     "text": [
      "<class 'pandas.core.frame.DataFrame'>\n",
      "RangeIndex: 50 entries, 0 to 49\n",
      "Data columns (total 5 columns):\n",
      " #   Column           Non-Null Count  Dtype  \n",
      "---  ------           --------------  -----  \n",
      " 0   R&D Spend        50 non-null     float64\n",
      " 1   Administration   50 non-null     float64\n",
      " 2   Marketing Spend  50 non-null     float64\n",
      " 3   State            50 non-null     object \n",
      " 4   Profit           50 non-null     float64\n",
      "dtypes: float64(4), object(1)\n",
      "memory usage: 2.1+ KB\n"
     ]
    }
   ],
   "source": [
    "startup.info()"
   ]
  },
  {
   "cell_type": "code",
   "execution_count": 4,
   "id": "607c844c",
   "metadata": {},
   "outputs": [
    {
     "data": {
      "text/html": [
       "<div>\n",
       "<style scoped>\n",
       "    .dataframe tbody tr th:only-of-type {\n",
       "        vertical-align: middle;\n",
       "    }\n",
       "\n",
       "    .dataframe tbody tr th {\n",
       "        vertical-align: top;\n",
       "    }\n",
       "\n",
       "    .dataframe thead th {\n",
       "        text-align: right;\n",
       "    }\n",
       "</style>\n",
       "<table border=\"1\" class=\"dataframe\">\n",
       "  <thead>\n",
       "    <tr style=\"text-align: right;\">\n",
       "      <th></th>\n",
       "      <th>R&amp;D Spend</th>\n",
       "      <th>Administration</th>\n",
       "      <th>Marketing Spend</th>\n",
       "      <th>Profit</th>\n",
       "    </tr>\n",
       "  </thead>\n",
       "  <tbody>\n",
       "    <tr>\n",
       "      <th>count</th>\n",
       "      <td>50.000000</td>\n",
       "      <td>50.000000</td>\n",
       "      <td>50.000000</td>\n",
       "      <td>50.000000</td>\n",
       "    </tr>\n",
       "    <tr>\n",
       "      <th>mean</th>\n",
       "      <td>73721.615600</td>\n",
       "      <td>121344.639600</td>\n",
       "      <td>211025.097800</td>\n",
       "      <td>112012.639200</td>\n",
       "    </tr>\n",
       "    <tr>\n",
       "      <th>std</th>\n",
       "      <td>45902.256482</td>\n",
       "      <td>28017.802755</td>\n",
       "      <td>122290.310726</td>\n",
       "      <td>40306.180338</td>\n",
       "    </tr>\n",
       "    <tr>\n",
       "      <th>min</th>\n",
       "      <td>0.000000</td>\n",
       "      <td>51283.140000</td>\n",
       "      <td>0.000000</td>\n",
       "      <td>14681.400000</td>\n",
       "    </tr>\n",
       "    <tr>\n",
       "      <th>25%</th>\n",
       "      <td>39936.370000</td>\n",
       "      <td>103730.875000</td>\n",
       "      <td>129300.132500</td>\n",
       "      <td>90138.902500</td>\n",
       "    </tr>\n",
       "    <tr>\n",
       "      <th>50%</th>\n",
       "      <td>73051.080000</td>\n",
       "      <td>122699.795000</td>\n",
       "      <td>212716.240000</td>\n",
       "      <td>107978.190000</td>\n",
       "    </tr>\n",
       "    <tr>\n",
       "      <th>75%</th>\n",
       "      <td>101602.800000</td>\n",
       "      <td>144842.180000</td>\n",
       "      <td>299469.085000</td>\n",
       "      <td>139765.977500</td>\n",
       "    </tr>\n",
       "    <tr>\n",
       "      <th>max</th>\n",
       "      <td>165349.200000</td>\n",
       "      <td>182645.560000</td>\n",
       "      <td>471784.100000</td>\n",
       "      <td>192261.830000</td>\n",
       "    </tr>\n",
       "  </tbody>\n",
       "</table>\n",
       "</div>"
      ],
      "text/plain": [
       "           R&D Spend  Administration  Marketing Spend         Profit\n",
       "count      50.000000       50.000000        50.000000      50.000000\n",
       "mean    73721.615600   121344.639600    211025.097800  112012.639200\n",
       "std     45902.256482    28017.802755    122290.310726   40306.180338\n",
       "min         0.000000    51283.140000         0.000000   14681.400000\n",
       "25%     39936.370000   103730.875000    129300.132500   90138.902500\n",
       "50%     73051.080000   122699.795000    212716.240000  107978.190000\n",
       "75%    101602.800000   144842.180000    299469.085000  139765.977500\n",
       "max    165349.200000   182645.560000    471784.100000  192261.830000"
      ]
     },
     "execution_count": 4,
     "metadata": {},
     "output_type": "execute_result"
    }
   ],
   "source": [
    "startup.describe()"
   ]
  },
  {
   "cell_type": "code",
   "execution_count": 5,
   "id": "3c1390e2",
   "metadata": {},
   "outputs": [
    {
     "data": {
      "text/plain": [
       "R&D Spend          0\n",
       "Administration     0\n",
       "Marketing Spend    0\n",
       "State              0\n",
       "Profit             0\n",
       "dtype: int64"
      ]
     },
     "execution_count": 5,
     "metadata": {},
     "output_type": "execute_result"
    }
   ],
   "source": [
    "startup.isna().sum()"
   ]
  },
  {
   "cell_type": "code",
   "execution_count": 6,
   "id": "c9060103",
   "metadata": {},
   "outputs": [
    {
     "data": {
      "text/plain": [
       "(50, 5)"
      ]
     },
     "execution_count": 6,
     "metadata": {},
     "output_type": "execute_result"
    }
   ],
   "source": [
    "startup.shape"
   ]
  },
  {
   "cell_type": "code",
   "execution_count": 7,
   "id": "74a68044",
   "metadata": {},
   "outputs": [
    {
     "data": {
      "text/html": [
       "<div>\n",
       "<style scoped>\n",
       "    .dataframe tbody tr th:only-of-type {\n",
       "        vertical-align: middle;\n",
       "    }\n",
       "\n",
       "    .dataframe tbody tr th {\n",
       "        vertical-align: top;\n",
       "    }\n",
       "\n",
       "    .dataframe thead th {\n",
       "        text-align: right;\n",
       "    }\n",
       "</style>\n",
       "<table border=\"1\" class=\"dataframe\">\n",
       "  <thead>\n",
       "    <tr style=\"text-align: right;\">\n",
       "      <th></th>\n",
       "      <th>R&amp;D Spend</th>\n",
       "      <th>Administration</th>\n",
       "      <th>Marketing Spend</th>\n",
       "      <th>Profit</th>\n",
       "    </tr>\n",
       "  </thead>\n",
       "  <tbody>\n",
       "    <tr>\n",
       "      <th>R&amp;D Spend</th>\n",
       "      <td>1.000000</td>\n",
       "      <td>0.241955</td>\n",
       "      <td>0.724248</td>\n",
       "      <td>0.972900</td>\n",
       "    </tr>\n",
       "    <tr>\n",
       "      <th>Administration</th>\n",
       "      <td>0.241955</td>\n",
       "      <td>1.000000</td>\n",
       "      <td>-0.032154</td>\n",
       "      <td>0.200717</td>\n",
       "    </tr>\n",
       "    <tr>\n",
       "      <th>Marketing Spend</th>\n",
       "      <td>0.724248</td>\n",
       "      <td>-0.032154</td>\n",
       "      <td>1.000000</td>\n",
       "      <td>0.747766</td>\n",
       "    </tr>\n",
       "    <tr>\n",
       "      <th>Profit</th>\n",
       "      <td>0.972900</td>\n",
       "      <td>0.200717</td>\n",
       "      <td>0.747766</td>\n",
       "      <td>1.000000</td>\n",
       "    </tr>\n",
       "  </tbody>\n",
       "</table>\n",
       "</div>"
      ],
      "text/plain": [
       "                 R&D Spend  Administration  Marketing Spend    Profit\n",
       "R&D Spend         1.000000        0.241955         0.724248  0.972900\n",
       "Administration    0.241955        1.000000        -0.032154  0.200717\n",
       "Marketing Spend   0.724248       -0.032154         1.000000  0.747766\n",
       "Profit            0.972900        0.200717         0.747766  1.000000"
      ]
     },
     "execution_count": 7,
     "metadata": {},
     "output_type": "execute_result"
    }
   ],
   "source": [
    "startup.corr()"
   ]
  },
  {
   "cell_type": "code",
   "execution_count": 8,
   "id": "4c348d25",
   "metadata": {},
   "outputs": [
    {
     "data": {
      "text/plain": [
       "<seaborn.axisgrid.PairGrid at 0x252b12eb8e0>"
      ]
     },
     "execution_count": 8,
     "metadata": {},
     "output_type": "execute_result"
    },
    {
     "data": {
      "image/png": "[encoded data removed]",
      "text/plain": [
       "<Figure size 720x720 with 20 Axes>"
      ]
     },
     "metadata": {},
     "output_type": "display_data"
    }
   ],
   "source": [
    "sns.set_style(style='darkgrid')\n",
    "sns.pairplot(startup)"
   ]
  },
  {
   "cell_type": "code",
   "execution_count": 9,
   "id": "ddc3c93a",
   "metadata": {},
   "outputs": [],
   "source": [
    "#Normalizing Data\n",
    "startup1=startup"
   ]
  },
  {
   "cell_type": "code",
   "execution_count": 10,
   "id": "9fe7065f",
   "metadata": {},
   "outputs": [
    {
     "data": {
      "text/html": [
       "<div>\n",
       "<style scoped>\n",
       "    .dataframe tbody tr th:only-of-type {\n",
       "        vertical-align: middle;\n",
       "    }\n",
       "\n",
       "    .dataframe tbody tr th {\n",
       "        vertical-align: top;\n",
       "    }\n",
       "\n",
       "    .dataframe thead th {\n",
       "        text-align: right;\n",
       "    }\n",
       "</style>\n",
       "<table border=\"1\" class=\"dataframe\">\n",
       "  <thead>\n",
       "    <tr style=\"text-align: right;\">\n",
       "      <th></th>\n",
       "      <th>R&amp;D Spend</th>\n",
       "      <th>Administration</th>\n",
       "      <th>Marketing Spend</th>\n",
       "      <th>Profit</th>\n",
       "    </tr>\n",
       "  </thead>\n",
       "  <tbody>\n",
       "    <tr>\n",
       "      <th>0</th>\n",
       "      <td>165349.20</td>\n",
       "      <td>136897.80</td>\n",
       "      <td>471784.10</td>\n",
       "      <td>192261.83</td>\n",
       "    </tr>\n",
       "    <tr>\n",
       "      <th>1</th>\n",
       "      <td>162597.70</td>\n",
       "      <td>151377.59</td>\n",
       "      <td>443898.53</td>\n",
       "      <td>191792.06</td>\n",
       "    </tr>\n",
       "    <tr>\n",
       "      <th>2</th>\n",
       "      <td>153441.51</td>\n",
       "      <td>101145.55</td>\n",
       "      <td>407934.54</td>\n",
       "      <td>191050.39</td>\n",
       "    </tr>\n",
       "    <tr>\n",
       "      <th>3</th>\n",
       "      <td>144372.41</td>\n",
       "      <td>118671.85</td>\n",
       "      <td>383199.62</td>\n",
       "      <td>182901.99</td>\n",
       "    </tr>\n",
       "    <tr>\n",
       "      <th>4</th>\n",
       "      <td>142107.34</td>\n",
       "      <td>91391.77</td>\n",
       "      <td>366168.42</td>\n",
       "      <td>166187.94</td>\n",
       "    </tr>\n",
       "  </tbody>\n",
       "</table>\n",
       "</div>"
      ],
      "text/plain": [
       "   R&D Spend  Administration  Marketing Spend     Profit\n",
       "0  165349.20       136897.80        471784.10  192261.83\n",
       "1  162597.70       151377.59        443898.53  191792.06\n",
       "2  153441.51       101145.55        407934.54  191050.39\n",
       "3  144372.41       118671.85        383199.62  182901.99\n",
       "4  142107.34        91391.77        366168.42  166187.94"
      ]
     },
     "execution_count": 10,
     "metadata": {},
     "output_type": "execute_result"
    }
   ],
   "source": [
    "# Drop non numerical column\n",
    "startup1.drop(['State'],axis=1,inplace=True)\n",
    "startup1.head()"
   ]
  },
  {
   "cell_type": "code",
   "execution_count": 11,
   "id": "6dce93c9",
   "metadata": {},
   "outputs": [],
   "source": [
    "from sklearn.preprocessing import MinMaxScaler\n",
    "norm =MinMaxScaler()\n",
    "startup_norm = norm.fit_transform(startup1)"
   ]
  },
  {
   "cell_type": "code",
   "execution_count": 12,
   "id": "f4475977",
   "metadata": {},
   "outputs": [
    {
     "data": {
      "text/plain": [
       "array([[1.        , 0.65174393, 1.        , 1.        ],\n",
       "       [0.98335946, 0.76197173, 0.94089337, 0.99735461],\n",
       "       [0.92798459, 0.37957895, 0.8646636 , 0.99317808],\n",
       "       [0.87313643, 0.51299839, 0.81223513, 0.94729239],\n",
       "       [0.85943772, 0.30532804, 0.77613557, 0.85317138],\n",
       "       [0.797566  , 0.3694479 , 0.76912588, 0.80138177],\n",
       "       [0.81412828, 0.73016111, 0.27071031, 0.79649041],\n",
       "       [0.7880179 , 0.71745725, 0.68649342, 0.79440736],\n",
       "       [0.72901786, 0.74173276, 0.66049977, 0.77446805],\n",
       "       [0.74590551, 0.43692884, 0.64644319, 0.7606613 ],\n",
       "       [0.61635061, 0.45150637, 0.48573267, 0.74017475],\n",
       "       [0.60884455, 0.30836422, 0.52936195, 0.72968626],\n",
       "       [0.56766982, 0.57883556, 0.52956308, 0.71462897],\n",
       "       [0.55635219, 0.64106561, 0.53555202, 0.67364377],\n",
       "       [0.72539353, 0.8013272 , 0.54370828, 0.66404417],\n",
       "       [0.69261666, 0.54302973, 0.55486446, 0.64892083],\n",
       "       [0.47180821, 0.53527036, 0.56031151, 0.63245443],\n",
       "       [0.57246821, 0.71401273, 0.59894835, 0.62331739],\n",
       "       [0.55488118, 0.47877201, 0.62511553, 0.61710347],\n",
       "       [0.52264964, 0.77823604, 0.        , 0.60871268],\n",
       "       [0.46116861, 0.47642362, 0.63305328, 0.58448237],\n",
       "       [0.47408436, 0.78021012, 0.63532724, 0.54415692],\n",
       "       [0.4475048 , 0.54429273, 0.64291963, 0.53874658],\n",
       "       [0.40842369, 0.4146383 , 0.64599195, 0.52963376],\n",
       "       [0.46594728, 0.3653876 , 0.29796428, 0.52860915],\n",
       "       [0.39107967, 0.67195793, 0.29242745, 0.52214616],\n",
       "       [0.45557444, 0.70684477, 0.28413435, 0.51273747],\n",
       "       [0.43609283, 0.58297807, 0.74861321, 0.50865352],\n",
       "       [0.39946683, 1.        , 0.25042853, 0.49893437],\n",
       "       [0.39676926, 0.77456642, 0.22709197, 0.48610784],\n",
       "       [0.37493063, 0.48992809, 0.19316302, 0.48009902],\n",
       "       [0.36974101, 0.77205322, 0.18698856, 0.46627976],\n",
       "       [0.38348453, 0.5932935 , 0.09768292, 0.46596599],\n",
       "       [0.33561668, 0.39413365, 0.45494286, 0.46231175],\n",
       "       [0.2807759 , 0.81005496, 0.44680961, 0.46193942],\n",
       "       [0.2782839 , 0.25703165, 0.43561799, 0.4606257 ],\n",
       "       [0.17335288, 0.57682456, 0.42631115, 0.42812595],\n",
       "       [0.26652654, 0.        , 0.41762624, 0.42385155],\n",
       "       [0.12234465, 0.11163611, 0.39269043, 0.37474659],\n",
       "       [0.23319442, 0.24130912, 0.3709309 , 0.37348913],\n",
       "       [0.17390063, 0.51204073, 0.36626005, 0.35791393],\n",
       "       [0.16869099, 0.25446874, 0.34861436, 0.3554301 ],\n",
       "       [0.14297577, 0.34185188, 0.31370517, 0.3199513 ],\n",
       "       [0.09377566, 0.57930693, 0.07531871, 0.31015569],\n",
       "       [0.13412668, 0.78807166, 0.06005866, 0.28448478],\n",
       "       [0.0060492 , 0.5547241 , 0.0040356 , 0.28294041],\n",
       "       [0.00795565, 0.49125975, 0.62976785, 0.19602019],\n",
       "       [0.        , 0.64054682, 0.        , 0.15698988],\n",
       "       [0.00327821, 0.00350184, 0.        , 0.11821128],\n",
       "       [0.        , 0.50014806, 0.09574943, 0.        ]])"
      ]
     },
     "execution_count": 12,
     "metadata": {},
     "output_type": "execute_result"
    }
   ],
   "source": [
    "startup_norm"
   ]
  },
  {
   "cell_type": "code",
   "execution_count": 13,
   "id": "b9328633",
   "metadata": {},
   "outputs": [],
   "source": [
    "startup_df = pd.DataFrame(startup_norm)"
   ]
  },
  {
   "cell_type": "code",
   "execution_count": 14,
   "id": "debc4d7c",
   "metadata": {},
   "outputs": [
    {
     "data": {
      "text/html": [
       "<div>\n",
       "<style scoped>\n",
       "    .dataframe tbody tr th:only-of-type {\n",
       "        vertical-align: middle;\n",
       "    }\n",
       "\n",
       "    .dataframe tbody tr th {\n",
       "        vertical-align: top;\n",
       "    }\n",
       "\n",
       "    .dataframe thead th {\n",
       "        text-align: right;\n",
       "    }\n",
       "</style>\n",
       "<table border=\"1\" class=\"dataframe\">\n",
       "  <thead>\n",
       "    <tr style=\"text-align: right;\">\n",
       "      <th></th>\n",
       "      <th>RD_S</th>\n",
       "      <th>Admin_S</th>\n",
       "      <th>MRKT_S</th>\n",
       "      <th>Profit</th>\n",
       "    </tr>\n",
       "  </thead>\n",
       "  <tbody>\n",
       "    <tr>\n",
       "      <th>0</th>\n",
       "      <td>1.000000</td>\n",
       "      <td>0.651744</td>\n",
       "      <td>1.000000</td>\n",
       "      <td>1.000000</td>\n",
       "    </tr>\n",
       "    <tr>\n",
       "      <th>1</th>\n",
       "      <td>0.983359</td>\n",
       "      <td>0.761972</td>\n",
       "      <td>0.940893</td>\n",
       "      <td>0.997355</td>\n",
       "    </tr>\n",
       "    <tr>\n",
       "      <th>2</th>\n",
       "      <td>0.927985</td>\n",
       "      <td>0.379579</td>\n",
       "      <td>0.864664</td>\n",
       "      <td>0.993178</td>\n",
       "    </tr>\n",
       "    <tr>\n",
       "      <th>3</th>\n",
       "      <td>0.873136</td>\n",
       "      <td>0.512998</td>\n",
       "      <td>0.812235</td>\n",
       "      <td>0.947292</td>\n",
       "    </tr>\n",
       "    <tr>\n",
       "      <th>4</th>\n",
       "      <td>0.859438</td>\n",
       "      <td>0.305328</td>\n",
       "      <td>0.776136</td>\n",
       "      <td>0.853171</td>\n",
       "    </tr>\n",
       "  </tbody>\n",
       "</table>\n",
       "</div>"
      ],
      "text/plain": [
       "       RD_S   Admin_S    MRKT_S    Profit\n",
       "0  1.000000  0.651744  1.000000  1.000000\n",
       "1  0.983359  0.761972  0.940893  0.997355\n",
       "2  0.927985  0.379579  0.864664  0.993178\n",
       "3  0.873136  0.512998  0.812235  0.947292\n",
       "4  0.859438  0.305328  0.776136  0.853171"
      ]
     },
     "execution_count": 14,
     "metadata": {},
     "output_type": "execute_result"
    }
   ],
   "source": [
    "startup_df.columns=['RD_S',\t'Admin_S',\t'MRKT_S', 'Profit']\n",
    "startup_df.head()"
   ]
  },
  {
   "cell_type": "markdown",
   "id": "0b2e2404",
   "metadata": {},
   "source": [
    "# Model Building"
   ]
  },
  {
   "cell_type": "code",
   "execution_count": 15,
   "id": "391cf05c",
   "metadata": {},
   "outputs": [],
   "source": [
    "model = smf.ols('Profit ~RD_S+Admin_S+MRKT_S', data= startup_df).fit()"
   ]
  },
  {
   "cell_type": "code",
   "execution_count": 16,
   "id": "ef1173df",
   "metadata": {},
   "outputs": [
    {
     "data": {
      "text/plain": [
       "Intercept    0.191832\n",
       "RD_S         0.750220\n",
       "Admin_S     -0.019837\n",
       "MRKT_S       0.072338\n",
       "dtype: float64"
      ]
     },
     "execution_count": 16,
     "metadata": {},
     "output_type": "execute_result"
    }
   ],
   "source": [
    "model.params"
   ]
  },
  {
   "cell_type": "code",
   "execution_count": 17,
   "id": "7dcf65d5",
   "metadata": {},
   "outputs": [
    {
     "data": {
      "text/plain": [
       "(Intercept     7.8760\n",
       " RD_S         17.8464\n",
       " Admin_S      -0.5255\n",
       " MRKT_S        1.6551\n",
       " dtype: float64,\n",
       " Intercept    0.0000\n",
       " RD_S         0.0000\n",
       " Admin_S      0.6018\n",
       " MRKT_S       0.1047\n",
       " dtype: float64)"
      ]
     },
     "execution_count": 17,
     "metadata": {},
     "output_type": "execute_result"
    }
   ],
   "source": [
    "np.round(model.tvalues, 4),np.round(model.pvalues, 4)"
   ]
  },
  {
   "cell_type": "code",
   "execution_count": 18,
   "id": "3b6e6a45",
   "metadata": {},
   "outputs": [
    {
     "data": {
      "text/html": [
       "<table class=\"simpletable\">\n",
       "<caption>OLS Regression Results</caption>\n",
       "<tr>\n",
       "  <th>Dep. Variable:</th>         <td>Profit</td>      <th>  R-squared:         </th> <td>   0.951</td>\n",
       "</tr>\n",
       "<tr>\n",
       "  <th>Model:</th>                   <td>OLS</td>       <th>  Adj. R-squared:    </th> <td>   0.948</td>\n",
       "</tr>\n",
       "<tr>\n",
       "  <th>Method:</th>             <td>Least Squares</td>  <th>  F-statistic:       </th> <td>   296.0</td>\n",
       "</tr>\n",
       "<tr>\n",
       "  <th>Date:</th>             <td>Fri, 17 Jun 2022</td> <th>  Prob (F-statistic):</th> <td>4.53e-30</td>\n",
       "</tr>\n",
       "<tr>\n",
       "  <th>Time:</th>                 <td>15:14:37</td>     <th>  Log-Likelihood:    </th> <td>  78.973</td>\n",
       "</tr>\n",
       "<tr>\n",
       "  <th>No. Observations:</th>      <td>    50</td>      <th>  AIC:               </th> <td>  -149.9</td>\n",
       "</tr>\n",
       "<tr>\n",
       "  <th>Df Residuals:</th>          <td>    46</td>      <th>  BIC:               </th> <td>  -142.3</td>\n",
       "</tr>\n",
       "<tr>\n",
       "  <th>Df Model:</th>              <td>     3</td>      <th>                     </th>     <td> </td>   \n",
       "</tr>\n",
       "<tr>\n",
       "  <th>Covariance Type:</th>      <td>nonrobust</td>    <th>                     </th>     <td> </td>   \n",
       "</tr>\n",
       "</table>\n",
       "<table class=\"simpletable\">\n",
       "<tr>\n",
       "      <td></td>         <th>coef</th>     <th>std err</th>      <th>t</th>      <th>P>|t|</th>  <th>[0.025</th>    <th>0.975]</th>  \n",
       "</tr>\n",
       "<tr>\n",
       "  <th>Intercept</th> <td>    0.1918</td> <td>    0.024</td> <td>    7.876</td> <td> 0.000</td> <td>    0.143</td> <td>    0.241</td>\n",
       "</tr>\n",
       "<tr>\n",
       "  <th>RD_S</th>      <td>    0.7502</td> <td>    0.042</td> <td>   17.846</td> <td> 0.000</td> <td>    0.666</td> <td>    0.835</td>\n",
       "</tr>\n",
       "<tr>\n",
       "  <th>Admin_S</th>   <td>   -0.0198</td> <td>    0.038</td> <td>   -0.526</td> <td> 0.602</td> <td>   -0.096</td> <td>    0.056</td>\n",
       "</tr>\n",
       "<tr>\n",
       "  <th>MRKT_S</th>    <td>    0.0723</td> <td>    0.044</td> <td>    1.655</td> <td> 0.105</td> <td>   -0.016</td> <td>    0.160</td>\n",
       "</tr>\n",
       "</table>\n",
       "<table class=\"simpletable\">\n",
       "<tr>\n",
       "  <th>Omnibus:</th>       <td>14.838</td> <th>  Durbin-Watson:     </th> <td>   1.282</td>\n",
       "</tr>\n",
       "<tr>\n",
       "  <th>Prob(Omnibus):</th> <td> 0.001</td> <th>  Jarque-Bera (JB):  </th> <td>  21.442</td>\n",
       "</tr>\n",
       "<tr>\n",
       "  <th>Skew:</th>          <td>-0.949</td> <th>  Prob(JB):          </th> <td>2.21e-05</td>\n",
       "</tr>\n",
       "<tr>\n",
       "  <th>Kurtosis:</th>      <td> 5.586</td> <th>  Cond. No.          </th> <td>    10.8</td>\n",
       "</tr>\n",
       "</table><br/><br/>Notes:<br/>[1] Standard Errors assume that the covariance matrix of the errors is correctly specified."
      ],
      "text/plain": [
       "<class 'statsmodels.iolib.summary.Summary'>\n",
       "\"\"\"\n",
       "                            OLS Regression Results                            \n",
       "==============================================================================\n",
       "Dep. Variable:                 Profit   R-squared:                       0.951\n",
       "Model:                            OLS   Adj. R-squared:                  0.948\n",
       "Method:                 Least Squares   F-statistic:                     296.0\n",
       "Date:                Fri, 17 Jun 2022   Prob (F-statistic):           4.53e-30\n",
       "Time:                        15:14:37   Log-Likelihood:                 78.973\n",
       "No. Observations:                  50   AIC:                            -149.9\n",
       "Df Residuals:                      46   BIC:                            -142.3\n",
       "Df Model:                           3                                         \n",
       "Covariance Type:            nonrobust                                         \n",
       "==============================================================================\n",
       "                 coef    std err          t      P>|t|      [0.025      0.975]\n",
       "------------------------------------------------------------------------------\n",
       "Intercept      0.1918      0.024      7.876      0.000       0.143       0.241\n",
       "RD_S           0.7502      0.042     17.846      0.000       0.666       0.835\n",
       "Admin_S       -0.0198      0.038     -0.526      0.602      -0.096       0.056\n",
       "MRKT_S         0.0723      0.044      1.655      0.105      -0.016       0.160\n",
       "==============================================================================\n",
       "Omnibus:                       14.838   Durbin-Watson:                   1.282\n",
       "Prob(Omnibus):                  0.001   Jarque-Bera (JB):               21.442\n",
       "Skew:                          -0.949   Prob(JB):                     2.21e-05\n",
       "Kurtosis:                       5.586   Cond. No.                         10.8\n",
       "==============================================================================\n",
       "\n",
       "Notes:\n",
       "[1] Standard Errors assume that the covariance matrix of the errors is correctly specified.\n",
       "\"\"\""
      ]
     },
     "execution_count": 18,
     "metadata": {},
     "output_type": "execute_result"
    }
   ],
   "source": [
    "model.summary()"
   ]
  },
  {
   "cell_type": "code",
   "execution_count": 19,
   "id": "6b5c60ce",
   "metadata": {},
   "outputs": [
    {
     "data": {
      "text/plain": [
       "(0.9507459940683246, 0.9475337762901719)"
      ]
     },
     "execution_count": 19,
     "metadata": {},
     "output_type": "execute_result"
    }
   ],
   "source": [
    "#R squared values\n",
    "(model.rsquared,model.rsquared_adj)"
   ]
  },
  {
   "cell_type": "code",
   "execution_count": 20,
   "id": "5dcf4cea",
   "metadata": {},
   "outputs": [
    {
     "name": "stdout",
     "output_type": "stream",
     "text": [
      "Intercept     7.875952\n",
      "RD_S         17.846374\n",
      "Admin_S      -0.525507\n",
      "MRKT_S        1.655077\n",
      "dtype: float64 \n",
      " Intercept    4.508627e-10\n",
      "RD_S         2.634968e-22\n",
      "Admin_S      6.017551e-01\n",
      "MRKT_S       1.047168e-01\n",
      "dtype: float64\n"
     ]
    }
   ],
   "source": [
    "#t and p-Values\n",
    "print(model.tvalues, '\\n', model.pvalues)"
   ]
  },
  {
   "cell_type": "markdown",
   "id": "67cd5b43",
   "metadata": {},
   "source": [
    "# Simple Linear Regression"
   ]
  },
  {
   "cell_type": "code",
   "execution_count": 21,
   "id": "63453576",
   "metadata": {},
   "outputs": [
    {
     "data": {
      "text/html": [
       "<table class=\"simpletable\">\n",
       "<caption>OLS Regression Results</caption>\n",
       "<tr>\n",
       "  <th>Dep. Variable:</th>         <td>Profit</td>      <th>  R-squared:         </th> <td>   0.040</td>\n",
       "</tr>\n",
       "<tr>\n",
       "  <th>Model:</th>                   <td>OLS</td>       <th>  Adj. R-squared:    </th> <td>   0.020</td>\n",
       "</tr>\n",
       "<tr>\n",
       "  <th>Method:</th>             <td>Least Squares</td>  <th>  F-statistic:       </th> <td>   2.015</td>\n",
       "</tr>\n",
       "<tr>\n",
       "  <th>Date:</th>             <td>Fri, 17 Jun 2022</td> <th>  Prob (F-statistic):</th>  <td> 0.162</td> \n",
       "</tr>\n",
       "<tr>\n",
       "  <th>Time:</th>                 <td>15:14:37</td>     <th>  Log-Likelihood:    </th> <td>  4.7321</td>\n",
       "</tr>\n",
       "<tr>\n",
       "  <th>No. Observations:</th>      <td>    50</td>      <th>  AIC:               </th> <td>  -5.464</td>\n",
       "</tr>\n",
       "<tr>\n",
       "  <th>Df Residuals:</th>          <td>    48</td>      <th>  BIC:               </th> <td>  -1.640</td>\n",
       "</tr>\n",
       "<tr>\n",
       "  <th>Df Model:</th>              <td>     1</td>      <th>                     </th>     <td> </td>   \n",
       "</tr>\n",
       "<tr>\n",
       "  <th>Covariance Type:</th>      <td>nonrobust</td>    <th>                     </th>     <td> </td>   \n",
       "</tr>\n",
       "</table>\n",
       "<table class=\"simpletable\">\n",
       "<tr>\n",
       "      <td></td>         <th>coef</th>     <th>std err</th>      <th>t</th>      <th>P>|t|</th>  <th>[0.025</th>    <th>0.975]</th>  \n",
       "</tr>\n",
       "<tr>\n",
       "  <th>Intercept</th> <td>    0.4342</td> <td>    0.086</td> <td>    5.030</td> <td> 0.000</td> <td>    0.261</td> <td>    0.608</td>\n",
       "</tr>\n",
       "<tr>\n",
       "  <th>Admin_S</th>   <td>    0.2136</td> <td>    0.150</td> <td>    1.419</td> <td> 0.162</td> <td>   -0.089</td> <td>    0.516</td>\n",
       "</tr>\n",
       "</table>\n",
       "<table class=\"simpletable\">\n",
       "<tr>\n",
       "  <th>Omnibus:</th>       <td> 0.126</td> <th>  Durbin-Watson:     </th> <td>   0.099</td>\n",
       "</tr>\n",
       "<tr>\n",
       "  <th>Prob(Omnibus):</th> <td> 0.939</td> <th>  Jarque-Bera (JB):  </th> <td>   0.110</td>\n",
       "</tr>\n",
       "<tr>\n",
       "  <th>Skew:</th>          <td> 0.093</td> <th>  Prob(JB):          </th> <td>   0.947</td>\n",
       "</tr>\n",
       "<tr>\n",
       "  <th>Kurtosis:</th>      <td> 2.866</td> <th>  Cond. No.          </th> <td>    6.13</td>\n",
       "</tr>\n",
       "</table><br/><br/>Notes:<br/>[1] Standard Errors assume that the covariance matrix of the errors is correctly specified."
      ],
      "text/plain": [
       "<class 'statsmodels.iolib.summary.Summary'>\n",
       "\"\"\"\n",
       "                            OLS Regression Results                            \n",
       "==============================================================================\n",
       "Dep. Variable:                 Profit   R-squared:                       0.040\n",
       "Model:                            OLS   Adj. R-squared:                  0.020\n",
       "Method:                 Least Squares   F-statistic:                     2.015\n",
       "Date:                Fri, 17 Jun 2022   Prob (F-statistic):              0.162\n",
       "Time:                        15:14:37   Log-Likelihood:                 4.7321\n",
       "No. Observations:                  50   AIC:                            -5.464\n",
       "Df Residuals:                      48   BIC:                            -1.640\n",
       "Df Model:                           1                                         \n",
       "Covariance Type:            nonrobust                                         \n",
       "==============================================================================\n",
       "                 coef    std err          t      P>|t|      [0.025      0.975]\n",
       "------------------------------------------------------------------------------\n",
       "Intercept      0.4342      0.086      5.030      0.000       0.261       0.608\n",
       "Admin_S        0.2136      0.150      1.419      0.162      -0.089       0.516\n",
       "==============================================================================\n",
       "Omnibus:                        0.126   Durbin-Watson:                   0.099\n",
       "Prob(Omnibus):                  0.939   Jarque-Bera (JB):                0.110\n",
       "Skew:                           0.093   Prob(JB):                        0.947\n",
       "Kurtosis:                       2.866   Cond. No.                         6.13\n",
       "==============================================================================\n",
       "\n",
       "Notes:\n",
       "[1] Standard Errors assume that the covariance matrix of the errors is correctly specified.\n",
       "\"\"\""
      ]
     },
     "execution_count": 21,
     "metadata": {},
     "output_type": "execute_result"
    }
   ],
   "source": [
    "slr_A = smf.ols('Profit~ Admin_S', data= startup_df).fit()\n",
    "slr_A.summary()"
   ]
  },
  {
   "cell_type": "code",
   "execution_count": 22,
   "id": "5092d504",
   "metadata": {},
   "outputs": [
    {
     "data": {
      "text/html": [
       "<table class=\"simpletable\">\n",
       "<caption>OLS Regression Results</caption>\n",
       "<tr>\n",
       "  <th>Dep. Variable:</th>         <td>Profit</td>      <th>  R-squared:         </th> <td>   0.559</td>\n",
       "</tr>\n",
       "<tr>\n",
       "  <th>Model:</th>                   <td>OLS</td>       <th>  Adj. R-squared:    </th> <td>   0.550</td>\n",
       "</tr>\n",
       "<tr>\n",
       "  <th>Method:</th>             <td>Least Squares</td>  <th>  F-statistic:       </th> <td>   60.88</td>\n",
       "</tr>\n",
       "<tr>\n",
       "  <th>Date:</th>             <td>Fri, 17 Jun 2022</td> <th>  Prob (F-statistic):</th> <td>4.38e-10</td>\n",
       "</tr>\n",
       "<tr>\n",
       "  <th>Time:</th>                 <td>15:14:37</td>     <th>  Log-Likelihood:    </th> <td>  24.181</td>\n",
       "</tr>\n",
       "<tr>\n",
       "  <th>No. Observations:</th>      <td>    50</td>      <th>  AIC:               </th> <td>  -44.36</td>\n",
       "</tr>\n",
       "<tr>\n",
       "  <th>Df Residuals:</th>          <td>    48</td>      <th>  BIC:               </th> <td>  -40.54</td>\n",
       "</tr>\n",
       "<tr>\n",
       "  <th>Df Model:</th>              <td>     1</td>      <th>                     </th>     <td> </td>   \n",
       "</tr>\n",
       "<tr>\n",
       "  <th>Covariance Type:</th>      <td>nonrobust</td>    <th>                     </th>     <td> </td>   \n",
       "</tr>\n",
       "</table>\n",
       "<table class=\"simpletable\">\n",
       "<tr>\n",
       "      <td></td>         <th>coef</th>     <th>std err</th>      <th>t</th>      <th>P>|t|</th>  <th>[0.025</th>    <th>0.975]</th>  \n",
       "</tr>\n",
       "<tr>\n",
       "  <th>Intercept</th> <td>    0.2552</td> <td>    0.043</td> <td>    5.898</td> <td> 0.000</td> <td>    0.168</td> <td>    0.342</td>\n",
       "</tr>\n",
       "<tr>\n",
       "  <th>MRKT_S</th>    <td>    0.6548</td> <td>    0.084</td> <td>    7.803</td> <td> 0.000</td> <td>    0.486</td> <td>    0.824</td>\n",
       "</tr>\n",
       "</table>\n",
       "<table class=\"simpletable\">\n",
       "<tr>\n",
       "  <th>Omnibus:</th>       <td> 4.420</td> <th>  Durbin-Watson:     </th> <td>   1.178</td>\n",
       "</tr>\n",
       "<tr>\n",
       "  <th>Prob(Omnibus):</th> <td> 0.110</td> <th>  Jarque-Bera (JB):  </th> <td>   3.882</td>\n",
       "</tr>\n",
       "<tr>\n",
       "  <th>Skew:</th>          <td>-0.336</td> <th>  Prob(JB):          </th> <td>   0.144</td>\n",
       "</tr>\n",
       "<tr>\n",
       "  <th>Kurtosis:</th>      <td> 4.188</td> <th>  Cond. No.          </th> <td>    4.72</td>\n",
       "</tr>\n",
       "</table><br/><br/>Notes:<br/>[1] Standard Errors assume that the covariance matrix of the errors is correctly specified."
      ],
      "text/plain": [
       "<class 'statsmodels.iolib.summary.Summary'>\n",
       "\"\"\"\n",
       "                            OLS Regression Results                            \n",
       "==============================================================================\n",
       "Dep. Variable:                 Profit   R-squared:                       0.559\n",
       "Model:                            OLS   Adj. R-squared:                  0.550\n",
       "Method:                 Least Squares   F-statistic:                     60.88\n",
       "Date:                Fri, 17 Jun 2022   Prob (F-statistic):           4.38e-10\n",
       "Time:                        15:14:37   Log-Likelihood:                 24.181\n",
       "No. Observations:                  50   AIC:                            -44.36\n",
       "Df Residuals:                      48   BIC:                            -40.54\n",
       "Df Model:                           1                                         \n",
       "Covariance Type:            nonrobust                                         \n",
       "==============================================================================\n",
       "                 coef    std err          t      P>|t|      [0.025      0.975]\n",
       "------------------------------------------------------------------------------\n",
       "Intercept      0.2552      0.043      5.898      0.000       0.168       0.342\n",
       "MRKT_S         0.6548      0.084      7.803      0.000       0.486       0.824\n",
       "==============================================================================\n",
       "Omnibus:                        4.420   Durbin-Watson:                   1.178\n",
       "Prob(Omnibus):                  0.110   Jarque-Bera (JB):                3.882\n",
       "Skew:                          -0.336   Prob(JB):                        0.144\n",
       "Kurtosis:                       4.188   Cond. No.                         4.72\n",
       "==============================================================================\n",
       "\n",
       "Notes:\n",
       "[1] Standard Errors assume that the covariance matrix of the errors is correctly specified.\n",
       "\"\"\""
      ]
     },
     "execution_count": 22,
     "metadata": {},
     "output_type": "execute_result"
    }
   ],
   "source": [
    "slr_M = smf.ols('Profit~ MRKT_S', data= startup_df).fit()\n",
    "slr_M.summary()"
   ]
  },
  {
   "cell_type": "code",
   "execution_count": 23,
   "id": "58170078",
   "metadata": {},
   "outputs": [
    {
     "data": {
      "text/html": [
       "<table class=\"simpletable\">\n",
       "<caption>OLS Regression Results</caption>\n",
       "<tr>\n",
       "  <th>Dep. Variable:</th>         <td>Profit</td>      <th>  R-squared:         </th> <td>   0.610</td>\n",
       "</tr>\n",
       "<tr>\n",
       "  <th>Model:</th>                   <td>OLS</td>       <th>  Adj. R-squared:    </th> <td>   0.593</td>\n",
       "</tr>\n",
       "<tr>\n",
       "  <th>Method:</th>             <td>Least Squares</td>  <th>  F-statistic:       </th> <td>   36.71</td>\n",
       "</tr>\n",
       "<tr>\n",
       "  <th>Date:</th>             <td>Fri, 17 Jun 2022</td> <th>  Prob (F-statistic):</th> <td>2.50e-10</td>\n",
       "</tr>\n",
       "<tr>\n",
       "  <th>Time:</th>                 <td>15:14:37</td>     <th>  Log-Likelihood:    </th> <td>  27.227</td>\n",
       "</tr>\n",
       "<tr>\n",
       "  <th>No. Observations:</th>      <td>    50</td>      <th>  AIC:               </th> <td>  -48.45</td>\n",
       "</tr>\n",
       "<tr>\n",
       "  <th>Df Residuals:</th>          <td>    47</td>      <th>  BIC:               </th> <td>  -42.72</td>\n",
       "</tr>\n",
       "<tr>\n",
       "  <th>Df Model:</th>              <td>     2</td>      <th>                     </th>     <td> </td>   \n",
       "</tr>\n",
       "<tr>\n",
       "  <th>Covariance Type:</th>      <td>nonrobust</td>    <th>                     </th>     <td> </td>   \n",
       "</tr>\n",
       "</table>\n",
       "<table class=\"simpletable\">\n",
       "<tr>\n",
       "      <td></td>         <th>coef</th>     <th>std err</th>      <th>t</th>      <th>P>|t|</th>  <th>[0.025</th>    <th>0.975]</th>  \n",
       "</tr>\n",
       "<tr>\n",
       "  <th>Intercept</th> <td>    0.1247</td> <td>    0.067</td> <td>    1.861</td> <td> 0.069</td> <td>   -0.010</td> <td>    0.260</td>\n",
       "</tr>\n",
       "<tr>\n",
       "  <th>Admin_S</th>   <td>    0.2394</td> <td>    0.097</td> <td>    2.468</td> <td> 0.017</td> <td>    0.044</td> <td>    0.435</td>\n",
       "</tr>\n",
       "<tr>\n",
       "  <th>MRKT_S</th>    <td>    0.6611</td> <td>    0.080</td> <td>    8.281</td> <td> 0.000</td> <td>    0.501</td> <td>    0.822</td>\n",
       "</tr>\n",
       "</table>\n",
       "<table class=\"simpletable\">\n",
       "<tr>\n",
       "  <th>Omnibus:</th>       <td> 6.584</td> <th>  Durbin-Watson:     </th> <td>   1.279</td>\n",
       "</tr>\n",
       "<tr>\n",
       "  <th>Prob(Omnibus):</th> <td> 0.037</td> <th>  Jarque-Bera (JB):  </th> <td>   6.524</td>\n",
       "</tr>\n",
       "<tr>\n",
       "  <th>Skew:</th>          <td>-0.512</td> <th>  Prob(JB):          </th> <td>  0.0383</td>\n",
       "</tr>\n",
       "<tr>\n",
       "  <th>Kurtosis:</th>      <td> 4.443</td> <th>  Cond. No.          </th> <td>    6.87</td>\n",
       "</tr>\n",
       "</table><br/><br/>Notes:<br/>[1] Standard Errors assume that the covariance matrix of the errors is correctly specified."
      ],
      "text/plain": [
       "<class 'statsmodels.iolib.summary.Summary'>\n",
       "\"\"\"\n",
       "                            OLS Regression Results                            \n",
       "==============================================================================\n",
       "Dep. Variable:                 Profit   R-squared:                       0.610\n",
       "Model:                            OLS   Adj. R-squared:                  0.593\n",
       "Method:                 Least Squares   F-statistic:                     36.71\n",
       "Date:                Fri, 17 Jun 2022   Prob (F-statistic):           2.50e-10\n",
       "Time:                        15:14:37   Log-Likelihood:                 27.227\n",
       "No. Observations:                  50   AIC:                            -48.45\n",
       "Df Residuals:                      47   BIC:                            -42.72\n",
       "Df Model:                           2                                         \n",
       "Covariance Type:            nonrobust                                         \n",
       "==============================================================================\n",
       "                 coef    std err          t      P>|t|      [0.025      0.975]\n",
       "------------------------------------------------------------------------------\n",
       "Intercept      0.1247      0.067      1.861      0.069      -0.010       0.260\n",
       "Admin_S        0.2394      0.097      2.468      0.017       0.044       0.435\n",
       "MRKT_S         0.6611      0.080      8.281      0.000       0.501       0.822\n",
       "==============================================================================\n",
       "Omnibus:                        6.584   Durbin-Watson:                   1.279\n",
       "Prob(Omnibus):                  0.037   Jarque-Bera (JB):                6.524\n",
       "Skew:                          -0.512   Prob(JB):                       0.0383\n",
       "Kurtosis:                       4.443   Cond. No.                         6.87\n",
       "==============================================================================\n",
       "\n",
       "Notes:\n",
       "[1] Standard Errors assume that the covariance matrix of the errors is correctly specified.\n",
       "\"\"\""
      ]
     },
     "execution_count": 23,
     "metadata": {},
     "output_type": "execute_result"
    }
   ],
   "source": [
    "mlr_AM = smf.ols('Profit~Admin_S+ MRKT_S', data=startup_df).fit()\n",
    "mlr_AM.summary()"
   ]
  },
  {
   "cell_type": "markdown",
   "id": "7790bf4d",
   "metadata": {},
   "source": [
    "# Calculating VIF"
   ]
  },
  {
   "cell_type": "code",
   "execution_count": 24,
   "id": "f92c3055",
   "metadata": {},
   "outputs": [
    {
     "data": {
      "text/html": [
       "<div>\n",
       "<style scoped>\n",
       "    .dataframe tbody tr th:only-of-type {\n",
       "        vertical-align: middle;\n",
       "    }\n",
       "\n",
       "    .dataframe tbody tr th {\n",
       "        vertical-align: top;\n",
       "    }\n",
       "\n",
       "    .dataframe thead th {\n",
       "        text-align: right;\n",
       "    }\n",
       "</style>\n",
       "<table border=\"1\" class=\"dataframe\">\n",
       "  <thead>\n",
       "    <tr style=\"text-align: right;\">\n",
       "      <th></th>\n",
       "      <th>Varriables</th>\n",
       "      <th>Vif</th>\n",
       "    </tr>\n",
       "  </thead>\n",
       "  <tbody>\n",
       "    <tr>\n",
       "      <th>0</th>\n",
       "      <td>RD_S</td>\n",
       "      <td>2.468903</td>\n",
       "    </tr>\n",
       "    <tr>\n",
       "      <th>1</th>\n",
       "      <td>Admin_S</td>\n",
       "      <td>1.175091</td>\n",
       "    </tr>\n",
       "    <tr>\n",
       "      <th>2</th>\n",
       "      <td>MRKT_S</td>\n",
       "      <td>2.326773</td>\n",
       "    </tr>\n",
       "  </tbody>\n",
       "</table>\n",
       "</div>"
      ],
      "text/plain": [
       "  Varriables       Vif\n",
       "0       RD_S  2.468903\n",
       "1    Admin_S  1.175091\n",
       "2     MRKT_S  2.326773"
      ]
     },
     "execution_count": 24,
     "metadata": {},
     "output_type": "execute_result"
    }
   ],
   "source": [
    "rsq_r = smf.ols('RD_S~ Admin_S+MRKT_S', data=startup_df).fit().rsquared\n",
    "vif_r = 1/(1-rsq_r)\n",
    "\n",
    "rsq_a = smf.ols('Admin_S ~ RD_S+MRKT_S', data=startup_df).fit().rsquared\n",
    "vif_a = 1/(1-rsq_a)\n",
    "\n",
    "rsq_m = smf.ols('MRKT_S~ RD_S+Admin_S', data=startup_df).fit().rsquared\n",
    "vif_m = 1/(1-rsq_m)\n",
    "\n",
    "d1 = {'Varriables':['RD_S','Admin_S','MRKT_S'], 'Vif':[vif_r,vif_a,vif_m]}\n",
    "vif_df= pd.DataFrame(d1)\n",
    "vif_df"
   ]
  },
  {
   "cell_type": "markdown",
   "id": "42a92d49",
   "metadata": {},
   "source": [
    "# All the variables have vif < 20, therfore no multicollinearty in variables. \n",
    "## So we will consider all the variables in model building"
   ]
  },
  {
   "cell_type": "markdown",
   "id": "25a11118",
   "metadata": {},
   "source": [
    "# Residual Analysis"
   ]
  },
  {
   "cell_type": "markdown",
   "id": "a54cce5d",
   "metadata": {},
   "source": [
    "# Test for Normality of Residuals (Q-Q Plot)"
   ]
  },
  {
   "cell_type": "code",
   "execution_count": 25,
   "id": "1328dd20",
   "metadata": {},
   "outputs": [
    {
     "name": "stderr",
     "output_type": "stream",
     "text": [
      "C:\\Users\\dalwe\\anaconda3\\lib\\site-packages\\statsmodels\\graphics\\gofplots.py:993: UserWarning: marker is redundantly defined by the 'marker' keyword argument and the fmt string \"bo\" (-> marker='o'). The keyword argument will take precedence.\n",
      "  ax.plot(x, y, fmt, **plot_style)\n"
     ]
    },
    {
     "data": {
      "image/png": "[encoded data removed]",
      "text/plain": [
       "<Figure size 432x288 with 1 Axes>"
      ]
     },
     "metadata": {},
     "output_type": "display_data"
    }
   ],
   "source": [
    "import statsmodels.api as sm\n",
    "sm.qqplot(model.resid,line='q') # line = 45 to draw the diagnoal line\n",
    "plt.title(\"Normal Q-Q plot of residuals\")\n",
    "plt.show()"
   ]
  },
  {
   "cell_type": "code",
   "execution_count": 26,
   "id": "7c2d52bc",
   "metadata": {},
   "outputs": [
    {
     "data": {
      "text/plain": [
       "[array([], dtype=int64)]"
      ]
     },
     "execution_count": 26,
     "metadata": {},
     "output_type": "execute_result"
    }
   ],
   "source": [
    "list(np.where(model.resid>10))"
   ]
  },
  {
   "cell_type": "code",
   "execution_count": 27,
   "id": "2dad5dd9",
   "metadata": {},
   "outputs": [
    {
     "data": {
      "text/plain": [
       "[array([49], dtype=int64)]"
      ]
     },
     "execution_count": 27,
     "metadata": {},
     "output_type": "execute_result"
    }
   ],
   "source": [
    "list(np.where(model.resid<-.10))"
   ]
  },
  {
   "cell_type": "markdown",
   "id": "4e7b1e39",
   "metadata": {},
   "source": [
    "# Residual plot for Homoscedasticity"
   ]
  },
  {
   "cell_type": "code",
   "execution_count": 28,
   "id": "429db7b4",
   "metadata": {},
   "outputs": [],
   "source": [
    "def get_standardized_values( vals ):\n",
    "    return (vals - vals.mean())/vals.std() # z= (x-mu) / sigma"
   ]
  },
  {
   "cell_type": "code",
   "execution_count": 29,
   "id": "0373959b",
   "metadata": {},
   "outputs": [
    {
     "data": {
      "image/png": "[encoded data removed]",
      "text/plain": [
       "<Figure size 432x288 with 1 Axes>"
      ]
     },
     "metadata": {},
     "output_type": "display_data"
    }
   ],
   "source": [
    "plt.scatter(get_standardized_values(model.fittedvalues),\n",
    "            get_standardized_values(model.resid))\n",
    "\n",
    "plt.title('Residual Plot')\n",
    "plt.xlabel('standarized fitted values')\n",
    "plt.ylabel('standarized residual values')\n",
    "plt.show()"
   ]
  },
  {
   "cell_type": "markdown",
   "id": "9feeb875",
   "metadata": {},
   "source": [
    "# Residual Vs Regressors"
   ]
  },
  {
   "cell_type": "markdown",
   "id": "ecea0bcf",
   "metadata": {},
   "source": [
    "#### Test for errors or Residuals Vs Regressors or independent variables or predictors\n",
    "\n",
    "#### using Residual Regression Plots code graphics.plot_regress_exog(model,'x',fig)\n",
    "\n",
    "#### exog = x-variable & endog = y-variable"
   ]
  },
  {
   "cell_type": "code",
   "execution_count": 30,
   "id": "5a2a478e",
   "metadata": {},
   "outputs": [
    {
     "data": {
      "image/png": "[encoded data removed]",
      "text/plain": [
       "<Figure size 1080x576 with 4 Axes>"
      ]
     },
     "metadata": {},
     "output_type": "display_data"
    }
   ],
   "source": [
    "fig = plt.figure(figsize=(15,8))\n",
    "sm.graphics.plot_regress_exog(model,'RD_S', fig=fig )\n",
    "plt.show()"
   ]
  },
  {
   "cell_type": "code",
   "execution_count": 31,
   "id": "2b125a4f",
   "metadata": {},
   "outputs": [
    {
     "data": {
      "image/png": "[encoded data removed]",
      "text/plain": [
       "<Figure size 1080x576 with 4 Axes>"
      ]
     },
     "metadata": {},
     "output_type": "display_data"
    }
   ],
   "source": [
    "fig = plt.figure(figsize=(15,8))\n",
    "sm.graphics.plot_regress_exog(model,'Admin_S', fig=fig )\n",
    "plt.show()"
   ]
  },
  {
   "cell_type": "code",
   "execution_count": 32,
   "id": "9634a5b0",
   "metadata": {},
   "outputs": [
    {
     "data": {
      "image/png": "[encoded data removed]",
      "text/plain": [
       "<Figure size 1080x576 with 4 Axes>"
      ]
     },
     "metadata": {},
     "output_type": "display_data"
    }
   ],
   "source": [
    "fig = plt.figure(figsize=(15,8))\n",
    "sm.graphics.plot_regress_exog(model,'MRKT_S', fig=fig )\n",
    "plt.show()"
   ]
  },
  {
   "cell_type": "markdown",
   "id": "b30f4dc0",
   "metadata": {},
   "source": [
    "# Model Deletion Diagnostics"
   ]
  },
  {
   "cell_type": "markdown",
   "id": "25129ab2",
   "metadata": {},
   "source": [
    "# Detecting Influencers/Outliers"
   ]
  },
  {
   "cell_type": "markdown",
   "id": "c9bf3b6b",
   "metadata": {},
   "source": [
    "## Cook’s Distance"
   ]
  },
  {
   "cell_type": "code",
   "execution_count": 33,
   "id": "ae5e67b5",
   "metadata": {},
   "outputs": [
    {
     "data": {
      "text/plain": [
       "array([3.21825244e-05, 3.27591036e-03, 3.23842699e-02, 2.17206555e-02,\n",
       "       1.44833032e-02, 1.17158463e-02, 2.91766303e-03, 3.56513444e-03,\n",
       "       4.04303948e-05, 4.86758017e-03, 1.51064757e-02, 1.63564959e-02,\n",
       "       1.15516625e-02, 4.01422811e-03, 6.12934253e-02, 3.40013448e-02,\n",
       "       8.33556413e-03, 3.30534399e-03, 2.16819303e-03, 4.07440577e-02,\n",
       "       4.25137222e-04, 1.09844352e-02, 2.91768000e-03, 2.76030254e-04,\n",
       "       5.04643588e-03, 3.00074623e-03, 3.41957068e-03, 2.98396413e-02,\n",
       "       1.31590664e-03, 1.25992620e-04, 4.18505125e-05, 9.27434786e-06,\n",
       "       7.08656521e-04, 1.28122674e-04, 2.09815032e-02, 6.69508674e-03,\n",
       "       5.55314705e-02, 6.55050578e-05, 5.61547311e-02, 1.54279607e-03,\n",
       "       1.84850929e-03, 1.97578066e-03, 1.36089280e-04, 2.05553171e-02,\n",
       "       1.23156041e-04, 9.03234206e-02, 5.45303387e-02, 5.33885616e-03,\n",
       "       1.90527441e-01, 2.88082293e-01])"
      ]
     },
     "execution_count": 33,
     "metadata": {},
     "output_type": "execute_result"
    }
   ],
   "source": [
    "model_influence = model.get_influence()\n",
    "(c, _)= model.get_influence().cooks_distance\n",
    "c"
   ]
  },
  {
   "cell_type": "code",
   "execution_count": 34,
   "id": "68590e35",
   "metadata": {},
   "outputs": [
    {
     "data": {
      "image/png": "[encoded data removed]",
      "text/plain": [
       "<Figure size 1440x504 with 1 Axes>"
      ]
     },
     "metadata": {},
     "output_type": "display_data"
    }
   ],
   "source": [
    "#Plot the influencers values using stem plot\n",
    "fig = plt.subplots(figsize=(20, 7))\n",
    "plt.stem(np.arange(len(startup_df)), np.round(c, 3))\n",
    "plt.xlabel('Row index')\n",
    "plt.ylabel('Cooks Distance')\n",
    "plt.show()"
   ]
  },
  {
   "cell_type": "code",
   "execution_count": 35,
   "id": "265b3709",
   "metadata": {},
   "outputs": [
    {
     "data": {
      "text/plain": [
       "(49, 0.2880822927543271)"
      ]
     },
     "execution_count": 35,
     "metadata": {},
     "output_type": "execute_result"
    }
   ],
   "source": [
    "np.argmax(c), np.max(c)"
   ]
  },
  {
   "cell_type": "markdown",
   "id": "15539b73",
   "metadata": {},
   "source": [
    "# High Influence points"
   ]
  },
  {
   "cell_type": "code",
   "execution_count": 36,
   "id": "84c59f3e",
   "metadata": {},
   "outputs": [
    {
     "data": {
      "image/png": "[encoded data removed]",
      "text/plain": [
       "<Figure size 1080x1080 with 1 Axes>"
      ]
     },
     "metadata": {},
     "output_type": "display_data"
    }
   ],
   "source": [
    "fig,ax = plt.subplots(figsize=(15, 15))\n",
    "influence_plot(model, ax=ax)\n",
    "plt.show()"
   ]
  },
  {
   "cell_type": "code",
   "execution_count": 37,
   "id": "ce6b6721",
   "metadata": {},
   "outputs": [
    {
     "name": "stdout",
     "output_type": "stream",
     "text": [
      "no. of columns= 4 \n",
      " no. of rows= 50\n",
      "leverage cutoff = 0.30000000000000004\n"
     ]
    }
   ],
   "source": [
    "k = startup_df.shape[1] # K is no. of columns\n",
    "\n",
    "n = startup_df.shape[0] # n is no. of rows\n",
    "print('no. of columns=',k,\"\\n\",'no. of rows=', n)\n",
    "\n",
    "# leverage cutoff value\n",
    "leverage_cutoff = 3*((k + 1)/n)\n",
    "print('leverage cutoff =',leverage_cutoff)"
   ]
  },
  {
   "cell_type": "code",
   "execution_count": 38,
   "id": "7b83a2dc",
   "metadata": {},
   "outputs": [
    {
     "data": {
      "text/html": [
       "<div>\n",
       "<style scoped>\n",
       "    .dataframe tbody tr th:only-of-type {\n",
       "        vertical-align: middle;\n",
       "    }\n",
       "\n",
       "    .dataframe tbody tr th {\n",
       "        vertical-align: top;\n",
       "    }\n",
       "\n",
       "    .dataframe thead th {\n",
       "        text-align: right;\n",
       "    }\n",
       "</style>\n",
       "<table border=\"1\" class=\"dataframe\">\n",
       "  <thead>\n",
       "    <tr style=\"text-align: right;\">\n",
       "      <th></th>\n",
       "      <th>RD_S</th>\n",
       "      <th>Admin_S</th>\n",
       "      <th>MRKT_S</th>\n",
       "      <th>Profit</th>\n",
       "    </tr>\n",
       "  </thead>\n",
       "  <tbody>\n",
       "    <tr>\n",
       "      <th>49</th>\n",
       "      <td>0.0</td>\n",
       "      <td>0.500148</td>\n",
       "      <td>0.095749</td>\n",
       "      <td>0.0</td>\n",
       "    </tr>\n",
       "  </tbody>\n",
       "</table>\n",
       "</div>"
      ],
      "text/plain": [
       "    RD_S   Admin_S    MRKT_S  Profit\n",
       "49   0.0  0.500148  0.095749     0.0"
      ]
     },
     "execution_count": 38,
     "metadata": {},
     "output_type": "execute_result"
    }
   ],
   "source": [
    "startup_df[startup_df.index.isin([49])]"
   ]
  },
  {
   "cell_type": "code",
   "execution_count": 39,
   "id": "c1977819",
   "metadata": {},
   "outputs": [
    {
     "data": {
      "text/html": [
       "<div>\n",
       "<style scoped>\n",
       "    .dataframe tbody tr th:only-of-type {\n",
       "        vertical-align: middle;\n",
       "    }\n",
       "\n",
       "    .dataframe tbody tr th {\n",
       "        vertical-align: top;\n",
       "    }\n",
       "\n",
       "    .dataframe thead th {\n",
       "        text-align: right;\n",
       "    }\n",
       "</style>\n",
       "<table border=\"1\" class=\"dataframe\">\n",
       "  <thead>\n",
       "    <tr style=\"text-align: right;\">\n",
       "      <th></th>\n",
       "      <th>RD_S</th>\n",
       "      <th>Admin_S</th>\n",
       "      <th>MRKT_S</th>\n",
       "      <th>Profit</th>\n",
       "    </tr>\n",
       "  </thead>\n",
       "  <tbody>\n",
       "    <tr>\n",
       "      <th>45</th>\n",
       "      <td>0.006049</td>\n",
       "      <td>0.554724</td>\n",
       "      <td>0.004036</td>\n",
       "      <td>0.282940</td>\n",
       "    </tr>\n",
       "    <tr>\n",
       "      <th>46</th>\n",
       "      <td>0.007956</td>\n",
       "      <td>0.491260</td>\n",
       "      <td>0.629768</td>\n",
       "      <td>0.196020</td>\n",
       "    </tr>\n",
       "    <tr>\n",
       "      <th>47</th>\n",
       "      <td>0.000000</td>\n",
       "      <td>0.640547</td>\n",
       "      <td>0.000000</td>\n",
       "      <td>0.156990</td>\n",
       "    </tr>\n",
       "    <tr>\n",
       "      <th>48</th>\n",
       "      <td>0.003278</td>\n",
       "      <td>0.003502</td>\n",
       "      <td>0.000000</td>\n",
       "      <td>0.118211</td>\n",
       "    </tr>\n",
       "    <tr>\n",
       "      <th>49</th>\n",
       "      <td>0.000000</td>\n",
       "      <td>0.500148</td>\n",
       "      <td>0.095749</td>\n",
       "      <td>0.000000</td>\n",
       "    </tr>\n",
       "  </tbody>\n",
       "</table>\n",
       "</div>"
      ],
      "text/plain": [
       "        RD_S   Admin_S    MRKT_S    Profit\n",
       "45  0.006049  0.554724  0.004036  0.282940\n",
       "46  0.007956  0.491260  0.629768  0.196020\n",
       "47  0.000000  0.640547  0.000000  0.156990\n",
       "48  0.003278  0.003502  0.000000  0.118211\n",
       "49  0.000000  0.500148  0.095749  0.000000"
      ]
     },
     "execution_count": 39,
     "metadata": {},
     "output_type": "execute_result"
    }
   ],
   "source": [
    "startup_df.tail(5)"
   ]
  },
  {
   "cell_type": "code",
   "execution_count": 40,
   "id": "99c0a148",
   "metadata": {},
   "outputs": [
    {
     "data": {
      "text/plain": [
       "(50, 4)"
      ]
     },
     "execution_count": 40,
     "metadata": {},
     "output_type": "execute_result"
    }
   ],
   "source": [
    "startup_df.shape"
   ]
  },
  {
   "cell_type": "code",
   "execution_count": 41,
   "id": "8fba134e",
   "metadata": {},
   "outputs": [],
   "source": [
    "# Significant difference in value of 49th record, so it is a outlier, droping it\n",
    "startup_new = startup_df\n",
    "startup_new = startup_new.drop(startup_new.index[[49]],axis=0)"
   ]
  },
  {
   "cell_type": "code",
   "execution_count": 42,
   "id": "66d04502",
   "metadata": {},
   "outputs": [
    {
     "data": {
      "text/plain": [
       "(49, 4)"
      ]
     },
     "execution_count": 42,
     "metadata": {},
     "output_type": "execute_result"
    }
   ],
   "source": [
    "startup_new.shape"
   ]
  },
  {
   "cell_type": "code",
   "execution_count": 43,
   "id": "637e2ea4",
   "metadata": {},
   "outputs": [
    {
     "data": {
      "text/html": [
       "<div>\n",
       "<style scoped>\n",
       "    .dataframe tbody tr th:only-of-type {\n",
       "        vertical-align: middle;\n",
       "    }\n",
       "\n",
       "    .dataframe tbody tr th {\n",
       "        vertical-align: top;\n",
       "    }\n",
       "\n",
       "    .dataframe thead th {\n",
       "        text-align: right;\n",
       "    }\n",
       "</style>\n",
       "<table border=\"1\" class=\"dataframe\">\n",
       "  <thead>\n",
       "    <tr style=\"text-align: right;\">\n",
       "      <th></th>\n",
       "      <th>RD_S</th>\n",
       "      <th>Admin_S</th>\n",
       "      <th>MRKT_S</th>\n",
       "      <th>Profit</th>\n",
       "    </tr>\n",
       "  </thead>\n",
       "  <tbody>\n",
       "    <tr>\n",
       "      <th>0</th>\n",
       "      <td>1.000000</td>\n",
       "      <td>0.651744</td>\n",
       "      <td>1.000000</td>\n",
       "      <td>1.000000</td>\n",
       "    </tr>\n",
       "    <tr>\n",
       "      <th>1</th>\n",
       "      <td>0.983359</td>\n",
       "      <td>0.761972</td>\n",
       "      <td>0.940893</td>\n",
       "      <td>0.997355</td>\n",
       "    </tr>\n",
       "    <tr>\n",
       "      <th>2</th>\n",
       "      <td>0.927985</td>\n",
       "      <td>0.379579</td>\n",
       "      <td>0.864664</td>\n",
       "      <td>0.993178</td>\n",
       "    </tr>\n",
       "    <tr>\n",
       "      <th>3</th>\n",
       "      <td>0.873136</td>\n",
       "      <td>0.512998</td>\n",
       "      <td>0.812235</td>\n",
       "      <td>0.947292</td>\n",
       "    </tr>\n",
       "    <tr>\n",
       "      <th>4</th>\n",
       "      <td>0.859438</td>\n",
       "      <td>0.305328</td>\n",
       "      <td>0.776136</td>\n",
       "      <td>0.853171</td>\n",
       "    </tr>\n",
       "    <tr>\n",
       "      <th>5</th>\n",
       "      <td>0.797566</td>\n",
       "      <td>0.369448</td>\n",
       "      <td>0.769126</td>\n",
       "      <td>0.801382</td>\n",
       "    </tr>\n",
       "    <tr>\n",
       "      <th>6</th>\n",
       "      <td>0.814128</td>\n",
       "      <td>0.730161</td>\n",
       "      <td>0.270710</td>\n",
       "      <td>0.796490</td>\n",
       "    </tr>\n",
       "    <tr>\n",
       "      <th>7</th>\n",
       "      <td>0.788018</td>\n",
       "      <td>0.717457</td>\n",
       "      <td>0.686493</td>\n",
       "      <td>0.794407</td>\n",
       "    </tr>\n",
       "    <tr>\n",
       "      <th>8</th>\n",
       "      <td>0.729018</td>\n",
       "      <td>0.741733</td>\n",
       "      <td>0.660500</td>\n",
       "      <td>0.774468</td>\n",
       "    </tr>\n",
       "    <tr>\n",
       "      <th>9</th>\n",
       "      <td>0.745906</td>\n",
       "      <td>0.436929</td>\n",
       "      <td>0.646443</td>\n",
       "      <td>0.760661</td>\n",
       "    </tr>\n",
       "    <tr>\n",
       "      <th>10</th>\n",
       "      <td>0.616351</td>\n",
       "      <td>0.451506</td>\n",
       "      <td>0.485733</td>\n",
       "      <td>0.740175</td>\n",
       "    </tr>\n",
       "    <tr>\n",
       "      <th>11</th>\n",
       "      <td>0.608845</td>\n",
       "      <td>0.308364</td>\n",
       "      <td>0.529362</td>\n",
       "      <td>0.729686</td>\n",
       "    </tr>\n",
       "    <tr>\n",
       "      <th>12</th>\n",
       "      <td>0.567670</td>\n",
       "      <td>0.578836</td>\n",
       "      <td>0.529563</td>\n",
       "      <td>0.714629</td>\n",
       "    </tr>\n",
       "    <tr>\n",
       "      <th>13</th>\n",
       "      <td>0.556352</td>\n",
       "      <td>0.641066</td>\n",
       "      <td>0.535552</td>\n",
       "      <td>0.673644</td>\n",
       "    </tr>\n",
       "    <tr>\n",
       "      <th>14</th>\n",
       "      <td>0.725394</td>\n",
       "      <td>0.801327</td>\n",
       "      <td>0.543708</td>\n",
       "      <td>0.664044</td>\n",
       "    </tr>\n",
       "    <tr>\n",
       "      <th>15</th>\n",
       "      <td>0.692617</td>\n",
       "      <td>0.543030</td>\n",
       "      <td>0.554864</td>\n",
       "      <td>0.648921</td>\n",
       "    </tr>\n",
       "    <tr>\n",
       "      <th>16</th>\n",
       "      <td>0.471808</td>\n",
       "      <td>0.535270</td>\n",
       "      <td>0.560312</td>\n",
       "      <td>0.632454</td>\n",
       "    </tr>\n",
       "    <tr>\n",
       "      <th>17</th>\n",
       "      <td>0.572468</td>\n",
       "      <td>0.714013</td>\n",
       "      <td>0.598948</td>\n",
       "      <td>0.623317</td>\n",
       "    </tr>\n",
       "    <tr>\n",
       "      <th>18</th>\n",
       "      <td>0.554881</td>\n",
       "      <td>0.478772</td>\n",
       "      <td>0.625116</td>\n",
       "      <td>0.617103</td>\n",
       "    </tr>\n",
       "    <tr>\n",
       "      <th>19</th>\n",
       "      <td>0.522650</td>\n",
       "      <td>0.778236</td>\n",
       "      <td>0.000000</td>\n",
       "      <td>0.608713</td>\n",
       "    </tr>\n",
       "    <tr>\n",
       "      <th>20</th>\n",
       "      <td>0.461169</td>\n",
       "      <td>0.476424</td>\n",
       "      <td>0.633053</td>\n",
       "      <td>0.584482</td>\n",
       "    </tr>\n",
       "    <tr>\n",
       "      <th>21</th>\n",
       "      <td>0.474084</td>\n",
       "      <td>0.780210</td>\n",
       "      <td>0.635327</td>\n",
       "      <td>0.544157</td>\n",
       "    </tr>\n",
       "    <tr>\n",
       "      <th>22</th>\n",
       "      <td>0.447505</td>\n",
       "      <td>0.544293</td>\n",
       "      <td>0.642920</td>\n",
       "      <td>0.538747</td>\n",
       "    </tr>\n",
       "    <tr>\n",
       "      <th>23</th>\n",
       "      <td>0.408424</td>\n",
       "      <td>0.414638</td>\n",
       "      <td>0.645992</td>\n",
       "      <td>0.529634</td>\n",
       "    </tr>\n",
       "    <tr>\n",
       "      <th>24</th>\n",
       "      <td>0.465947</td>\n",
       "      <td>0.365388</td>\n",
       "      <td>0.297964</td>\n",
       "      <td>0.528609</td>\n",
       "    </tr>\n",
       "    <tr>\n",
       "      <th>25</th>\n",
       "      <td>0.391080</td>\n",
       "      <td>0.671958</td>\n",
       "      <td>0.292427</td>\n",
       "      <td>0.522146</td>\n",
       "    </tr>\n",
       "    <tr>\n",
       "      <th>26</th>\n",
       "      <td>0.455574</td>\n",
       "      <td>0.706845</td>\n",
       "      <td>0.284134</td>\n",
       "      <td>0.512737</td>\n",
       "    </tr>\n",
       "    <tr>\n",
       "      <th>27</th>\n",
       "      <td>0.436093</td>\n",
       "      <td>0.582978</td>\n",
       "      <td>0.748613</td>\n",
       "      <td>0.508654</td>\n",
       "    </tr>\n",
       "    <tr>\n",
       "      <th>28</th>\n",
       "      <td>0.399467</td>\n",
       "      <td>1.000000</td>\n",
       "      <td>0.250429</td>\n",
       "      <td>0.498934</td>\n",
       "    </tr>\n",
       "    <tr>\n",
       "      <th>29</th>\n",
       "      <td>0.396769</td>\n",
       "      <td>0.774566</td>\n",
       "      <td>0.227092</td>\n",
       "      <td>0.486108</td>\n",
       "    </tr>\n",
       "    <tr>\n",
       "      <th>30</th>\n",
       "      <td>0.374931</td>\n",
       "      <td>0.489928</td>\n",
       "      <td>0.193163</td>\n",
       "      <td>0.480099</td>\n",
       "    </tr>\n",
       "    <tr>\n",
       "      <th>31</th>\n",
       "      <td>0.369741</td>\n",
       "      <td>0.772053</td>\n",
       "      <td>0.186989</td>\n",
       "      <td>0.466280</td>\n",
       "    </tr>\n",
       "    <tr>\n",
       "      <th>32</th>\n",
       "      <td>0.383485</td>\n",
       "      <td>0.593294</td>\n",
       "      <td>0.097683</td>\n",
       "      <td>0.465966</td>\n",
       "    </tr>\n",
       "    <tr>\n",
       "      <th>33</th>\n",
       "      <td>0.335617</td>\n",
       "      <td>0.394134</td>\n",
       "      <td>0.454943</td>\n",
       "      <td>0.462312</td>\n",
       "    </tr>\n",
       "    <tr>\n",
       "      <th>34</th>\n",
       "      <td>0.280776</td>\n",
       "      <td>0.810055</td>\n",
       "      <td>0.446810</td>\n",
       "      <td>0.461939</td>\n",
       "    </tr>\n",
       "    <tr>\n",
       "      <th>35</th>\n",
       "      <td>0.278284</td>\n",
       "      <td>0.257032</td>\n",
       "      <td>0.435618</td>\n",
       "      <td>0.460626</td>\n",
       "    </tr>\n",
       "    <tr>\n",
       "      <th>36</th>\n",
       "      <td>0.173353</td>\n",
       "      <td>0.576825</td>\n",
       "      <td>0.426311</td>\n",
       "      <td>0.428126</td>\n",
       "    </tr>\n",
       "    <tr>\n",
       "      <th>37</th>\n",
       "      <td>0.266527</td>\n",
       "      <td>0.000000</td>\n",
       "      <td>0.417626</td>\n",
       "      <td>0.423852</td>\n",
       "    </tr>\n",
       "    <tr>\n",
       "      <th>38</th>\n",
       "      <td>0.122345</td>\n",
       "      <td>0.111636</td>\n",
       "      <td>0.392690</td>\n",
       "      <td>0.374747</td>\n",
       "    </tr>\n",
       "    <tr>\n",
       "      <th>39</th>\n",
       "      <td>0.233194</td>\n",
       "      <td>0.241309</td>\n",
       "      <td>0.370931</td>\n",
       "      <td>0.373489</td>\n",
       "    </tr>\n",
       "    <tr>\n",
       "      <th>40</th>\n",
       "      <td>0.173901</td>\n",
       "      <td>0.512041</td>\n",
       "      <td>0.366260</td>\n",
       "      <td>0.357914</td>\n",
       "    </tr>\n",
       "    <tr>\n",
       "      <th>41</th>\n",
       "      <td>0.168691</td>\n",
       "      <td>0.254469</td>\n",
       "      <td>0.348614</td>\n",
       "      <td>0.355430</td>\n",
       "    </tr>\n",
       "    <tr>\n",
       "      <th>42</th>\n",
       "      <td>0.142976</td>\n",
       "      <td>0.341852</td>\n",
       "      <td>0.313705</td>\n",
       "      <td>0.319951</td>\n",
       "    </tr>\n",
       "    <tr>\n",
       "      <th>43</th>\n",
       "      <td>0.093776</td>\n",
       "      <td>0.579307</td>\n",
       "      <td>0.075319</td>\n",
       "      <td>0.310156</td>\n",
       "    </tr>\n",
       "    <tr>\n",
       "      <th>44</th>\n",
       "      <td>0.134127</td>\n",
       "      <td>0.788072</td>\n",
       "      <td>0.060059</td>\n",
       "      <td>0.284485</td>\n",
       "    </tr>\n",
       "    <tr>\n",
       "      <th>45</th>\n",
       "      <td>0.006049</td>\n",
       "      <td>0.554724</td>\n",
       "      <td>0.004036</td>\n",
       "      <td>0.282940</td>\n",
       "    </tr>\n",
       "    <tr>\n",
       "      <th>46</th>\n",
       "      <td>0.007956</td>\n",
       "      <td>0.491260</td>\n",
       "      <td>0.629768</td>\n",
       "      <td>0.196020</td>\n",
       "    </tr>\n",
       "    <tr>\n",
       "      <th>47</th>\n",
       "      <td>0.000000</td>\n",
       "      <td>0.640547</td>\n",
       "      <td>0.000000</td>\n",
       "      <td>0.156990</td>\n",
       "    </tr>\n",
       "    <tr>\n",
       "      <th>48</th>\n",
       "      <td>0.003278</td>\n",
       "      <td>0.003502</td>\n",
       "      <td>0.000000</td>\n",
       "      <td>0.118211</td>\n",
       "    </tr>\n",
       "  </tbody>\n",
       "</table>\n",
       "</div>"
      ],
      "text/plain": [
       "        RD_S   Admin_S    MRKT_S    Profit\n",
       "0   1.000000  0.651744  1.000000  1.000000\n",
       "1   0.983359  0.761972  0.940893  0.997355\n",
       "2   0.927985  0.379579  0.864664  0.993178\n",
       "3   0.873136  0.512998  0.812235  0.947292\n",
       "4   0.859438  0.305328  0.776136  0.853171\n",
       "5   0.797566  0.369448  0.769126  0.801382\n",
       "6   0.814128  0.730161  0.270710  0.796490\n",
       "7   0.788018  0.717457  0.686493  0.794407\n",
       "8   0.729018  0.741733  0.660500  0.774468\n",
       "9   0.745906  0.436929  0.646443  0.760661\n",
       "10  0.616351  0.451506  0.485733  0.740175\n",
       "11  0.608845  0.308364  0.529362  0.729686\n",
       "12  0.567670  0.578836  0.529563  0.714629\n",
       "13  0.556352  0.641066  0.535552  0.673644\n",
       "14  0.725394  0.801327  0.543708  0.664044\n",
       "15  0.692617  0.543030  0.554864  0.648921\n",
       "16  0.471808  0.535270  0.560312  0.632454\n",
       "17  0.572468  0.714013  0.598948  0.623317\n",
       "18  0.554881  0.478772  0.625116  0.617103\n",
       "19  0.522650  0.778236  0.000000  0.608713\n",
       "20  0.461169  0.476424  0.633053  0.584482\n",
       "21  0.474084  0.780210  0.635327  0.544157\n",
       "22  0.447505  0.544293  0.642920  0.538747\n",
       "23  0.408424  0.414638  0.645992  0.529634\n",
       "24  0.465947  0.365388  0.297964  0.528609\n",
       "25  0.391080  0.671958  0.292427  0.522146\n",
       "26  0.455574  0.706845  0.284134  0.512737\n",
       "27  0.436093  0.582978  0.748613  0.508654\n",
       "28  0.399467  1.000000  0.250429  0.498934\n",
       "29  0.396769  0.774566  0.227092  0.486108\n",
       "30  0.374931  0.489928  0.193163  0.480099\n",
       "31  0.369741  0.772053  0.186989  0.466280\n",
       "32  0.383485  0.593294  0.097683  0.465966\n",
       "33  0.335617  0.394134  0.454943  0.462312\n",
       "34  0.280776  0.810055  0.446810  0.461939\n",
       "35  0.278284  0.257032  0.435618  0.460626\n",
       "36  0.173353  0.576825  0.426311  0.428126\n",
       "37  0.266527  0.000000  0.417626  0.423852\n",
       "38  0.122345  0.111636  0.392690  0.374747\n",
       "39  0.233194  0.241309  0.370931  0.373489\n",
       "40  0.173901  0.512041  0.366260  0.357914\n",
       "41  0.168691  0.254469  0.348614  0.355430\n",
       "42  0.142976  0.341852  0.313705  0.319951\n",
       "43  0.093776  0.579307  0.075319  0.310156\n",
       "44  0.134127  0.788072  0.060059  0.284485\n",
       "45  0.006049  0.554724  0.004036  0.282940\n",
       "46  0.007956  0.491260  0.629768  0.196020\n",
       "47  0.000000  0.640547  0.000000  0.156990\n",
       "48  0.003278  0.003502  0.000000  0.118211"
      ]
     },
     "execution_count": 43,
     "metadata": {},
     "output_type": "execute_result"
    }
   ],
   "source": [
    "startup_new"
   ]
  },
  {
   "cell_type": "markdown",
   "id": "878ac3f1",
   "metadata": {},
   "source": [
    "# Improving the model"
   ]
  },
  {
   "cell_type": "code",
   "execution_count": 44,
   "id": "aef3381f",
   "metadata": {},
   "outputs": [],
   "source": [
    "#Rebuild model and generate R-Squared and AIC values\n",
    "\n",
    "model1 = smf.ols('Profit ~RD_S+Admin_S+MRKT_S', data= startup_new).fit()"
   ]
  },
  {
   "cell_type": "code",
   "execution_count": 45,
   "id": "3ab58482",
   "metadata": {},
   "outputs": [
    {
     "data": {
      "text/html": [
       "<table class=\"simpletable\">\n",
       "<caption>OLS Regression Results</caption>\n",
       "<tr>\n",
       "  <th>Dep. Variable:</th>         <td>Profit</td>      <th>  R-squared:         </th> <td>   0.961</td>\n",
       "</tr>\n",
       "<tr>\n",
       "  <th>Model:</th>                   <td>OLS</td>       <th>  Adj. R-squared:    </th> <td>   0.959</td>\n",
       "</tr>\n",
       "<tr>\n",
       "  <th>Method:</th>             <td>Least Squares</td>  <th>  F-statistic:       </th> <td>   372.8</td>\n",
       "</tr>\n",
       "<tr>\n",
       "  <th>Date:</th>             <td>Fri, 17 Jun 2022</td> <th>  Prob (F-statistic):</th> <td>8.85e-32</td>\n",
       "</tr>\n",
       "<tr>\n",
       "  <th>Time:</th>                 <td>15:14:41</td>     <th>  Log-Likelihood:    </th> <td>  85.989</td>\n",
       "</tr>\n",
       "<tr>\n",
       "  <th>No. Observations:</th>      <td>    49</td>      <th>  AIC:               </th> <td>  -164.0</td>\n",
       "</tr>\n",
       "<tr>\n",
       "  <th>Df Residuals:</th>          <td>    45</td>      <th>  BIC:               </th> <td>  -156.4</td>\n",
       "</tr>\n",
       "<tr>\n",
       "  <th>Df Model:</th>              <td>     3</td>      <th>                     </th>     <td> </td>   \n",
       "</tr>\n",
       "<tr>\n",
       "  <th>Covariance Type:</th>      <td>nonrobust</td>    <th>                     </th>     <td> </td>   \n",
       "</tr>\n",
       "</table>\n",
       "<table class=\"simpletable\">\n",
       "<tr>\n",
       "      <td></td>         <th>coef</th>     <th>std err</th>      <th>t</th>      <th>P>|t|</th>  <th>[0.025</th>    <th>0.975]</th>  \n",
       "</tr>\n",
       "<tr>\n",
       "  <th>Intercept</th> <td>    0.2059</td> <td>    0.021</td> <td>    9.950</td> <td> 0.000</td> <td>    0.164</td> <td>    0.248</td>\n",
       "</tr>\n",
       "<tr>\n",
       "  <th>RD_S</th>      <td>    0.7291</td> <td>    0.036</td> <td>   20.470</td> <td> 0.000</td> <td>    0.657</td> <td>    0.801</td>\n",
       "</tr>\n",
       "<tr>\n",
       "  <th>Admin_S</th>   <td>   -0.0164</td> <td>    0.032</td> <td>   -0.518</td> <td> 0.607</td> <td>   -0.080</td> <td>    0.047</td>\n",
       "</tr>\n",
       "<tr>\n",
       "  <th>MRKT_S</th>    <td>    0.0670</td> <td>    0.037</td> <td>    1.825</td> <td> 0.075</td> <td>   -0.007</td> <td>    0.141</td>\n",
       "</tr>\n",
       "</table>\n",
       "<table class=\"simpletable\">\n",
       "<tr>\n",
       "  <th>Omnibus:</th>       <td> 0.082</td> <th>  Durbin-Watson:     </th> <td>   1.598</td>\n",
       "</tr>\n",
       "<tr>\n",
       "  <th>Prob(Omnibus):</th> <td> 0.960</td> <th>  Jarque-Bera (JB):  </th> <td>   0.232</td>\n",
       "</tr>\n",
       "<tr>\n",
       "  <th>Skew:</th>          <td>-0.082</td> <th>  Prob(JB):          </th> <td>   0.890</td>\n",
       "</tr>\n",
       "<tr>\n",
       "  <th>Kurtosis:</th>      <td> 2.706</td> <th>  Cond. No.          </th> <td>    10.8</td>\n",
       "</tr>\n",
       "</table><br/><br/>Notes:<br/>[1] Standard Errors assume that the covariance matrix of the errors is correctly specified."
      ],
      "text/plain": [
       "<class 'statsmodels.iolib.summary.Summary'>\n",
       "\"\"\"\n",
       "                            OLS Regression Results                            \n",
       "==============================================================================\n",
       "Dep. Variable:                 Profit   R-squared:                       0.961\n",
       "Model:                            OLS   Adj. R-squared:                  0.959\n",
       "Method:                 Least Squares   F-statistic:                     372.8\n",
       "Date:                Fri, 17 Jun 2022   Prob (F-statistic):           8.85e-32\n",
       "Time:                        15:14:41   Log-Likelihood:                 85.989\n",
       "No. Observations:                  49   AIC:                            -164.0\n",
       "Df Residuals:                      45   BIC:                            -156.4\n",
       "Df Model:                           3                                         \n",
       "Covariance Type:            nonrobust                                         \n",
       "==============================================================================\n",
       "                 coef    std err          t      P>|t|      [0.025      0.975]\n",
       "------------------------------------------------------------------------------\n",
       "Intercept      0.2059      0.021      9.950      0.000       0.164       0.248\n",
       "RD_S           0.7291      0.036     20.470      0.000       0.657       0.801\n",
       "Admin_S       -0.0164      0.032     -0.518      0.607      -0.080       0.047\n",
       "MRKT_S         0.0670      0.037      1.825      0.075      -0.007       0.141\n",
       "==============================================================================\n",
       "Omnibus:                        0.082   Durbin-Watson:                   1.598\n",
       "Prob(Omnibus):                  0.960   Jarque-Bera (JB):                0.232\n",
       "Skew:                          -0.082   Prob(JB):                        0.890\n",
       "Kurtosis:                       2.706   Cond. No.                         10.8\n",
       "==============================================================================\n",
       "\n",
       "Notes:\n",
       "[1] Standard Errors assume that the covariance matrix of the errors is correctly specified.\n",
       "\"\"\""
      ]
     },
     "execution_count": 45,
     "metadata": {},
     "output_type": "execute_result"
    }
   ],
   "source": [
    "model1.summary()"
   ]
  },
  {
   "cell_type": "code",
   "execution_count": 46,
   "id": "0804e0d9",
   "metadata": {},
   "outputs": [
    {
     "data": {
      "text/plain": [
       "array([1.66350327e-03, 1.23799116e-02, 6.50218747e-02, 4.03899998e-02,\n",
       "       1.28650631e-02, 1.21058543e-02, 2.73552112e-03, 3.61057988e-03,\n",
       "       2.02797815e-04, 5.30263697e-03, 2.14218192e-02, 2.37342297e-02,\n",
       "       1.58363724e-02, 5.22784116e-03, 8.43989066e-02, 4.65559091e-02,\n",
       "       1.07193528e-02, 5.12051798e-03, 3.22585991e-03, 4.29215716e-02,\n",
       "       3.40892355e-04, 1.88659002e-02, 5.25774010e-03, 8.63061914e-04,\n",
       "       9.41132587e-03, 2.64353068e-03, 7.04291169e-03, 4.71293937e-02,\n",
       "       4.68589970e-05, 1.23474983e-03, 1.33416709e-04, 8.33867345e-04,\n",
       "       3.47851752e-03, 6.91264848e-04, 1.96199658e-02, 6.20542092e-03,\n",
       "       6.41990558e-02, 5.15924382e-04, 5.90383781e-02, 5.21168130e-03,\n",
       "       6.18372420e-04, 5.54615495e-04, 2.62020740e-04, 1.76373696e-02,\n",
       "       1.77776263e-03, 9.79664450e-02, 1.39422650e-01, 2.47514796e-02,\n",
       "       3.92744206e-01])"
      ]
     },
     "execution_count": 46,
     "metadata": {},
     "output_type": "execute_result"
    }
   ],
   "source": [
    "(c1, _)= model1.get_influence().cooks_distance\n",
    "c1"
   ]
  },
  {
   "cell_type": "code",
   "execution_count": 47,
   "id": "76c38372",
   "metadata": {},
   "outputs": [
    {
     "data": {
      "image/png": "[encoded data removed]",
      "text/plain": [
       "<Figure size 1440x504 with 1 Axes>"
      ]
     },
     "metadata": {},
     "output_type": "display_data"
    }
   ],
   "source": [
    "#Plot the influencers values using stem plot\n",
    "fig = plt.subplots(figsize=(20, 7))\n",
    "plt.stem(np.arange(len(startup_new)), np.round(c1,3))\n",
    "plt.xlabel('Row index')\n",
    "plt.ylabel('Cooks distance')\n",
    "plt.show()"
   ]
  },
  {
   "cell_type": "code",
   "execution_count": 48,
   "id": "04c452c7",
   "metadata": {},
   "outputs": [
    {
     "data": {
      "text/plain": [
       "(48, 0.3927442055632145)"
      ]
     },
     "execution_count": 48,
     "metadata": {},
     "output_type": "execute_result"
    }
   ],
   "source": [
    "np.argmax(c1), np.max(c1)"
   ]
  },
  {
   "cell_type": "code",
   "execution_count": 49,
   "id": "af231198",
   "metadata": {},
   "outputs": [
    {
     "name": "stdout",
     "output_type": "stream",
     "text": [
      "leverage cutoff = 0.30612244897959184\n"
     ]
    }
   ],
   "source": [
    "# leverage cutoff value\n",
    "leverage_cutoff = 3*((4 + 1)/49)\n",
    "print('leverage cutoff =',leverage_cutoff)"
   ]
  },
  {
   "cell_type": "code",
   "execution_count": 50,
   "id": "d3e111d7",
   "metadata": {},
   "outputs": [
    {
     "data": {
      "text/html": [
       "<div>\n",
       "<style scoped>\n",
       "    .dataframe tbody tr th:only-of-type {\n",
       "        vertical-align: middle;\n",
       "    }\n",
       "\n",
       "    .dataframe tbody tr th {\n",
       "        vertical-align: top;\n",
       "    }\n",
       "\n",
       "    .dataframe thead th {\n",
       "        text-align: right;\n",
       "    }\n",
       "</style>\n",
       "<table border=\"1\" class=\"dataframe\">\n",
       "  <thead>\n",
       "    <tr style=\"text-align: right;\">\n",
       "      <th></th>\n",
       "      <th>RD_S</th>\n",
       "      <th>Admin_S</th>\n",
       "      <th>MRKT_S</th>\n",
       "      <th>Profit</th>\n",
       "    </tr>\n",
       "  </thead>\n",
       "  <tbody>\n",
       "    <tr>\n",
       "      <th>48</th>\n",
       "      <td>0.003278</td>\n",
       "      <td>0.003502</td>\n",
       "      <td>0.0</td>\n",
       "      <td>0.118211</td>\n",
       "    </tr>\n",
       "  </tbody>\n",
       "</table>\n",
       "</div>"
      ],
      "text/plain": [
       "        RD_S   Admin_S  MRKT_S    Profit\n",
       "48  0.003278  0.003502     0.0  0.118211"
      ]
     },
     "execution_count": 50,
     "metadata": {},
     "output_type": "execute_result"
    }
   ],
   "source": [
    "# deleting 48th record since its cook's distance value is beyond leverage cutoff\n",
    "startup_new[startup_new.index.isin([48])]"
   ]
  },
  {
   "cell_type": "code",
   "execution_count": 51,
   "id": "464e1043",
   "metadata": {},
   "outputs": [],
   "source": [
    "startup_new = startup_new.drop(startup_new.index[[48]],axis=0)\n"
   ]
  },
  {
   "cell_type": "code",
   "execution_count": 52,
   "id": "acbee7dc",
   "metadata": {},
   "outputs": [
    {
     "data": {
      "text/plain": [
       "(48, 4)"
      ]
     },
     "execution_count": 52,
     "metadata": {},
     "output_type": "execute_result"
    }
   ],
   "source": [
    "startup_new.shape"
   ]
  },
  {
   "cell_type": "markdown",
   "id": "ae050936",
   "metadata": {},
   "source": [
    "# Rebuilding Model"
   ]
  },
  {
   "cell_type": "code",
   "execution_count": 53,
   "id": "b7a544e6",
   "metadata": {},
   "outputs": [],
   "source": [
    "#Rebuild model and generate R-Squared and AIC values\n",
    "\n",
    "model2 = smf.ols('Profit ~ RD_S+ Admin_S+ MRKT_S', data= startup_new).fit()"
   ]
  },
  {
   "cell_type": "code",
   "execution_count": 54,
   "id": "ee4228ab",
   "metadata": {},
   "outputs": [
    {
     "data": {
      "text/html": [
       "<table class=\"simpletable\">\n",
       "<caption>OLS Regression Results</caption>\n",
       "<tr>\n",
       "  <th>Dep. Variable:</th>         <td>Profit</td>      <th>  R-squared:         </th> <td>   0.963</td>\n",
       "</tr>\n",
       "<tr>\n",
       "  <th>Model:</th>                   <td>OLS</td>       <th>  Adj. R-squared:    </th> <td>   0.960</td>\n",
       "</tr>\n",
       "<tr>\n",
       "  <th>Method:</th>             <td>Least Squares</td>  <th>  F-statistic:       </th> <td>   378.3</td>\n",
       "</tr>\n",
       "<tr>\n",
       "  <th>Date:</th>             <td>Fri, 17 Jun 2022</td> <th>  Prob (F-statistic):</th> <td>2.03e-31</td>\n",
       "</tr>\n",
       "<tr>\n",
       "  <th>Time:</th>                 <td>15:14:41</td>     <th>  Log-Likelihood:    </th> <td>  86.850</td>\n",
       "</tr>\n",
       "<tr>\n",
       "  <th>No. Observations:</th>      <td>    48</td>      <th>  AIC:               </th> <td>  -165.7</td>\n",
       "</tr>\n",
       "<tr>\n",
       "  <th>Df Residuals:</th>          <td>    44</td>      <th>  BIC:               </th> <td>  -158.2</td>\n",
       "</tr>\n",
       "<tr>\n",
       "  <th>Df Model:</th>              <td>     3</td>      <th>                     </th>     <td> </td>   \n",
       "</tr>\n",
       "<tr>\n",
       "  <th>Covariance Type:</th>      <td>nonrobust</td>    <th>                     </th>     <td> </td>   \n",
       "</tr>\n",
       "</table>\n",
       "<table class=\"simpletable\">\n",
       "<tr>\n",
       "      <td></td>         <th>coef</th>     <th>std err</th>      <th>t</th>      <th>P>|t|</th>  <th>[0.025</th>    <th>0.975]</th>  \n",
       "</tr>\n",
       "<tr>\n",
       "  <th>Intercept</th> <td>    0.2318</td> <td>    0.022</td> <td>   10.418</td> <td> 0.000</td> <td>    0.187</td> <td>    0.277</td>\n",
       "</tr>\n",
       "<tr>\n",
       "  <th>RD_S</th>      <td>    0.7351</td> <td>    0.034</td> <td>   21.718</td> <td> 0.000</td> <td>    0.667</td> <td>    0.803</td>\n",
       "</tr>\n",
       "<tr>\n",
       "  <th>Admin_S</th>   <td>   -0.0469</td> <td>    0.032</td> <td>   -1.442</td> <td> 0.156</td> <td>   -0.112</td> <td>    0.019</td>\n",
       "</tr>\n",
       "<tr>\n",
       "  <th>MRKT_S</th>    <td>    0.0449</td> <td>    0.036</td> <td>    1.249</td> <td> 0.218</td> <td>   -0.028</td> <td>    0.117</td>\n",
       "</tr>\n",
       "</table>\n",
       "<table class=\"simpletable\">\n",
       "<tr>\n",
       "  <th>Omnibus:</th>       <td> 0.287</td> <th>  Durbin-Watson:     </th> <td>   1.809</td>\n",
       "</tr>\n",
       "<tr>\n",
       "  <th>Prob(Omnibus):</th> <td> 0.866</td> <th>  Jarque-Bera (JB):  </th> <td>   0.475</td>\n",
       "</tr>\n",
       "<tr>\n",
       "  <th>Skew:</th>          <td> 0.057</td> <th>  Prob(JB):          </th> <td>   0.789</td>\n",
       "</tr>\n",
       "<tr>\n",
       "  <th>Kurtosis:</th>      <td> 2.526</td> <th>  Cond. No.          </th> <td>    11.3</td>\n",
       "</tr>\n",
       "</table><br/><br/>Notes:<br/>[1] Standard Errors assume that the covariance matrix of the errors is correctly specified."
      ],
      "text/plain": [
       "<class 'statsmodels.iolib.summary.Summary'>\n",
       "\"\"\"\n",
       "                            OLS Regression Results                            \n",
       "==============================================================================\n",
       "Dep. Variable:                 Profit   R-squared:                       0.963\n",
       "Model:                            OLS   Adj. R-squared:                  0.960\n",
       "Method:                 Least Squares   F-statistic:                     378.3\n",
       "Date:                Fri, 17 Jun 2022   Prob (F-statistic):           2.03e-31\n",
       "Time:                        15:14:41   Log-Likelihood:                 86.850\n",
       "No. Observations:                  48   AIC:                            -165.7\n",
       "Df Residuals:                      44   BIC:                            -158.2\n",
       "Df Model:                           3                                         \n",
       "Covariance Type:            nonrobust                                         \n",
       "==============================================================================\n",
       "                 coef    std err          t      P>|t|      [0.025      0.975]\n",
       "------------------------------------------------------------------------------\n",
       "Intercept      0.2318      0.022     10.418      0.000       0.187       0.277\n",
       "RD_S           0.7351      0.034     21.718      0.000       0.667       0.803\n",
       "Admin_S       -0.0469      0.032     -1.442      0.156      -0.112       0.019\n",
       "MRKT_S         0.0449      0.036      1.249      0.218      -0.028       0.117\n",
       "==============================================================================\n",
       "Omnibus:                        0.287   Durbin-Watson:                   1.809\n",
       "Prob(Omnibus):                  0.866   Jarque-Bera (JB):                0.475\n",
       "Skew:                           0.057   Prob(JB):                        0.789\n",
       "Kurtosis:                       2.526   Cond. No.                         11.3\n",
       "==============================================================================\n",
       "\n",
       "Notes:\n",
       "[1] Standard Errors assume that the covariance matrix of the errors is correctly specified.\n",
       "\"\"\""
      ]
     },
     "execution_count": 54,
     "metadata": {},
     "output_type": "execute_result"
    }
   ],
   "source": [
    "model2.summary()"
   ]
  },
  {
   "cell_type": "code",
   "execution_count": 55,
   "id": "be971372",
   "metadata": {},
   "outputs": [
    {
     "data": {
      "text/plain": [
       "array([0.0094125 , 0.03599295, 0.07038599, 0.04910179, 0.02027973,\n",
       "       0.01581269, 0.00508904, 0.00203414, 0.00139645, 0.00741048,\n",
       "       0.02122911, 0.02036064, 0.01761793, 0.0065972 , 0.08739921,\n",
       "       0.05356297, 0.01189486, 0.00394455, 0.00383202, 0.03474835,\n",
       "       0.00036025, 0.01334921, 0.00501967, 0.00125401, 0.02328487,\n",
       "       0.00260973, 0.00828195, 0.0439174 , 0.00219589, 0.00131071,\n",
       "       0.00179249, 0.00104067, 0.00938565, 0.00186774, 0.03319456,\n",
       "       0.00319554, 0.07149117, 0.02037088, 0.04383268, 0.01633989,\n",
       "       0.0002867 , 0.0002371 , 0.00246905, 0.01432865, 0.00257352,\n",
       "       0.0951408 , 0.13829134, 0.03936831])"
      ]
     },
     "execution_count": 55,
     "metadata": {},
     "output_type": "execute_result"
    }
   ],
   "source": [
    "(c2, _)= model2.get_influence().cooks_distance\n",
    "c2"
   ]
  },
  {
   "cell_type": "code",
   "execution_count": 56,
   "id": "ad65545b",
   "metadata": {},
   "outputs": [
    {
     "data": {
      "image/png": "[encoded data removed]",
      "text/plain": [
       "<Figure size 1440x504 with 1 Axes>"
      ]
     },
     "metadata": {},
     "output_type": "display_data"
    }
   ],
   "source": [
    "#Plot the influencers values using stem plot\n",
    "fig = plt.subplots(figsize=(20, 7))\n",
    "plt.stem(np.arange(len(startup_new)), np.round(c2,3))\n",
    "plt.xlabel('Row index')\n",
    "plt.ylabel('Cooks distance')\n",
    "plt.show()"
   ]
  },
  {
   "cell_type": "code",
   "execution_count": 57,
   "id": "5502a98b",
   "metadata": {},
   "outputs": [
    {
     "data": {
      "text/plain": [
       "(46, 0.13829133994334597)"
      ]
     },
     "execution_count": 57,
     "metadata": {},
     "output_type": "execute_result"
    }
   ],
   "source": [
    "np.argmax(c2), np.max(c2)"
   ]
  },
  {
   "cell_type": "code",
   "execution_count": 58,
   "id": "c2a87fc0",
   "metadata": {},
   "outputs": [
    {
     "name": "stdout",
     "output_type": "stream",
     "text": [
      "leverage cutoff = 0.3125\n"
     ]
    }
   ],
   "source": [
    "# leverage cutoff value\n",
    "leverage_cutoff = 3*((4 + 1)/48)\n",
    "print('leverage cutoff =',leverage_cutoff)"
   ]
  },
  {
   "cell_type": "code",
   "execution_count": 59,
   "id": "297b1c34",
   "metadata": {},
   "outputs": [
    {
     "data": {
      "text/html": [
       "<div>\n",
       "<style scoped>\n",
       "    .dataframe tbody tr th:only-of-type {\n",
       "        vertical-align: middle;\n",
       "    }\n",
       "\n",
       "    .dataframe tbody tr th {\n",
       "        vertical-align: top;\n",
       "    }\n",
       "\n",
       "    .dataframe thead th {\n",
       "        text-align: right;\n",
       "    }\n",
       "</style>\n",
       "<table border=\"1\" class=\"dataframe\">\n",
       "  <thead>\n",
       "    <tr style=\"text-align: right;\">\n",
       "      <th></th>\n",
       "      <th>Model Name</th>\n",
       "      <th>Rsquared</th>\n",
       "    </tr>\n",
       "  </thead>\n",
       "  <tbody>\n",
       "    <tr>\n",
       "      <th>0</th>\n",
       "      <td>Model</td>\n",
       "      <td>0.950746</td>\n",
       "    </tr>\n",
       "    <tr>\n",
       "      <th>1</th>\n",
       "      <td>Model1</td>\n",
       "      <td>0.961316</td>\n",
       "    </tr>\n",
       "    <tr>\n",
       "      <th>2</th>\n",
       "      <td>Model2</td>\n",
       "      <td>0.962677</td>\n",
       "    </tr>\n",
       "  </tbody>\n",
       "</table>\n",
       "</div>"
      ],
      "text/plain": [
       "  Model Name  Rsquared\n",
       "0      Model  0.950746\n",
       "1     Model1  0.961316\n",
       "2     Model2  0.962677"
      ]
     },
     "execution_count": 59,
     "metadata": {},
     "output_type": "execute_result"
    }
   ],
   "source": [
    "d2={'Model Name':['Model','Model1','Model2'],'Rsquared':[model.rsquared,model1.rsquared,model2.rsquared]}\n",
    "table=pd.DataFrame(d2)\n",
    "table"
   ]
  },
  {
   "cell_type": "markdown",
   "id": "ce45dd43",
   "metadata": {},
   "source": [
    "### Model 2 is having highest R-squared value"
   ]
  },
  {
   "cell_type": "markdown",
   "id": "901052a7",
   "metadata": {},
   "source": [
    "# Model Prediction"
   ]
  },
  {
   "cell_type": "code",
   "execution_count": 60,
   "id": "c46adb6d",
   "metadata": {},
   "outputs": [
    {
     "data": {
      "text/html": [
       "<div>\n",
       "<style scoped>\n",
       "    .dataframe tbody tr th:only-of-type {\n",
       "        vertical-align: middle;\n",
       "    }\n",
       "\n",
       "    .dataframe tbody tr th {\n",
       "        vertical-align: top;\n",
       "    }\n",
       "\n",
       "    .dataframe thead th {\n",
       "        text-align: right;\n",
       "    }\n",
       "</style>\n",
       "<table border=\"1\" class=\"dataframe\">\n",
       "  <thead>\n",
       "    <tr style=\"text-align: right;\">\n",
       "      <th></th>\n",
       "      <th>RD_S</th>\n",
       "      <th>Admin_S</th>\n",
       "      <th>MRKT_S</th>\n",
       "    </tr>\n",
       "  </thead>\n",
       "  <tbody>\n",
       "    <tr>\n",
       "      <th>0</th>\n",
       "      <td>70000</td>\n",
       "      <td>90000</td>\n",
       "      <td>140000</td>\n",
       "    </tr>\n",
       "  </tbody>\n",
       "</table>\n",
       "</div>"
      ],
      "text/plain": [
       "    RD_S  Admin_S  MRKT_S\n",
       "0  70000    90000  140000"
      ]
     },
     "execution_count": 60,
     "metadata": {},
     "output_type": "execute_result"
    }
   ],
   "source": [
    "pred_data=pd.DataFrame({'RD_S':70000,\"Admin_S\":90000,\"MRKT_S\":140000},index=[0])\n",
    "pred_data"
   ]
  },
  {
   "cell_type": "code",
   "execution_count": 61,
   "id": "ffb1a8e3",
   "metadata": {},
   "outputs": [
    {
     "data": {
      "text/plain": [
       "0    53524.809586\n",
       "dtype: float64"
      ]
     },
     "execution_count": 61,
     "metadata": {},
     "output_type": "execute_result"
    }
   ],
   "source": [
    "model2.predict(pred_data)"
   ]
  }
 ],
 "metadata": {
  "kernelspec": {
   "display_name": "Python 3 (ipykernel)",
   "language": "python",
   "name": "python3"
  },
  "language_info": {
   "codemirror_mode": {
    "name": "ipython",
    "version": 3
   },
   "file_extension": ".py",
   "mimetype": "text/x-python",
   "name": "python",
   "nbconvert_exporter": "python",
   "pygments_lexer": "ipython3",
   "version": "3.9.7"
  }
 },
 "nbformat": 4,
 "nbformat_minor": 5
}
